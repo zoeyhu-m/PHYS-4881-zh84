{
 "cells": [
  {
   "cell_type": "markdown",
   "id": "188b91f3",
   "metadata": {},
   "source": [
    "## physics4481-7681/cs4812 ps2 problem 1\n",
    "### due Tues 39 Sep 23:00 via gradescope (two days after the rest of ps2)\n",
    "\n",
    "This is the first problem of ps2 -- the remaining problems will be posted as a text file.\n",
    "\n",
    "In this exercise, you will implement the GHZ game, discussed in the 2nd half of [lec 7](https://courses.cit.cornell.edu/physics4481-7681_2021fa/lec7_wb.pdf). If the qubits were far away from each other, this would be a demonstration of \"spooky action at a distance\". They will instead be adjacent qubits, since that is what we have available via the IBM cloud resources.\n",
    "\n",
    "First recall the instructions from [ps0](https://nbviewer.jupyter.org/url/courses.cit.cornell.edu/physics4481-7681_2021fa/ps0.ipynb): <blockquote>go to [quantum-computing.ibm.com](https://quantum-computing.ibm.com/) and sign up for an IBMid, using your Cornell netid email address when registering. (So we can add you to the project for this course. Everyone in the course will need an account to be able to run circuit assignments. Once you have registered, you should see this course listed among your projects -- otherwise please post a private message to Ed requesting to be added.)\n",
    "Then log in and launch IBM Quantum Lab. You can upload this (already downloaded) Jupyter notebook and double-click to open (or you can access the cloud resources running your notebook locally, use `pip install qiskit` to install qiskit).</blockquote>  \n",
    "\n",
    "[We will add additional instructions here to respond to any difficulties you have: please post questions on Ed, and note that Eliott R. will hold his usual study halls next week Mon/Wed 1:30-2:30pm in Clark 294C.]\n",
    "\n",
    "<blockquote>Pick a quantum device. In the menu at the top left of the screen, click on `Services` (open it in a new tab). Then click on `systems`. Change the drop-down selection from `All systems` to `Your systems`. Pick one of the 5-qubit devices that is online. If you click on it, you see some important information. The basis gates are the gates that can be natively implemented on the device. All other gates must be decomposed in terms of these (Qiskit's transpiler can do this for you). See [this](https://qiskit.org/documentation/apidoc/circuit_library.html) page for a list of all of the gates supported by Qiskit, including the basis gates that you see here, and [this](https://qiskit.org/documentation/apidoc/transpiler.html) page for information about Qiskit's transpiler. You also see a diagram of the device. Two-qubit gates can only be applied between qubits that are connected in this diagram. (Two-qubit gates between other qubits can be decomposed in terms of these gates.) Finally, note the error rates. CNOT error rates measure the error rate from applying a CNOT gate, and readout assignment error rates measure the probability that a final state of 0 is erroneously recorded as 1 or vice versa. (These specific cases are also reported as `Prob meas0 prep1` and `Prob meas1 prep0`.</blockquote>\n",
    "\n",
    "# 1.\n",
    "Pick three connected qubits to use for this game such that the middle qubit is connected to both of the other two qubits. Pick them so that the readout assignment error rates on both qubits and the CNOT error rates between the qubits are both relatively low. Fill in this information below:"
   ]
  },
  {
   "cell_type": "code",
   "execution_count": 13,
   "id": "c30cd6bb",
   "metadata": {
    "tags": []
   },
   "outputs": [],
   "source": [
    "# change to the ones you pick\n",
    "device_name = 'ibm_lagos'  # e.g. 'ibmq_lima'\n",
    "qubits = [0,1,2]       # e.g. [0,1,2]"
   ]
  },
  {
   "cell_type": "markdown",
   "id": "ab04d8ee",
   "metadata": {},
   "source": [
    "With the device properties still open, click on `Your access providers`. You should see `ibm-q-education/cornell-uni-2/physics-4481` as one of the providers. That means that you have been successfully added to the project for this course. You can also see the variables `max shots` and `max circuits`. `shots` is the number of times that each circuit is run, and `max_circuits` is the maximum number of circuits that can be sent to the quantum computer at once, in a single job. See [this](https://quantum-computing.ibm.com/services/docs/services/manage/systems/execution) page for more information. It is more efficient (in terms of run time) to increase the number of shots than to run a circuit multiple times. However, in the GHZ game, Alice, Bob, and Charlie only have one shot each time they receive $r$, $s$, and $t$, so we will set `shots = 1` for now. Fill in the following from what you see in the device properties:"
   ]
  },
  {
   "cell_type": "code",
   "execution_count": 2,
   "id": "11c4a398",
   "metadata": {
    "tags": []
   },
   "outputs": [],
   "source": [
    "max_circuits = 900  # e.g., 75\n",
    "max_shots =    8192   # e.g., 8192"
   ]
  },
  {
   "cell_type": "markdown",
   "id": "ad902959",
   "metadata": {},
   "source": [
    "Next, generate a numpy array, `x`, of length `max_circuits` containing random integers from 0 to 3 (inclusive). 0 will correspond to r,s,t = 0,0,0; 1 to r,s,t = 0,1,1; 2 to r,s,t = 1,0,1; and 3 to r,s,t = 1,1,0."
   ]
  },
  {
   "cell_type": "code",
   "execution_count": 5,
   "id": "1ceba5a3",
   "metadata": {
    "tags": []
   },
   "outputs": [
    {
     "name": "stdout",
     "output_type": "stream",
     "text": [
      "[1 0 2 0 2 1 0 2 2 0 2 0 0 0 2 2 0 1 1 1 0 2 2 2 2 2 2 2 2 0 1 1 2 1 0 1 2\n",
      " 1 0 1 1 1 1 2 2 0 0 2 0 1 0 0 2 1 0 1 2 0 0 1 2 1 1 0 0 1 2 2 2 2 1 1 1 1\n",
      " 1 1 2 0 2 1 0 2 1 2 1 2 1 0 2 1 1 2 0 2 2 1 1 2 2 0 1 1 1 0 1 1 1 2 0 1 0\n",
      " 0 2 0 2 0 2 2 0 1 1 2 2 1 1 2 2 0 0 2 2 2 1 2 2 2 0 2 0 1 1 1 2 0 2 1 1 0\n",
      " 0 0 0 1 1 0 0 1 0 2 0 0 1 0 0 2 2 1 0 2 0 1 0 0 1 2 2 2 1 1 2 1 2 2 0 1 1\n",
      " 0 1 2 1 1 2 1 2 2 0 1 1 1 0 2 2 2 1 0 0 0 1 2 1 1 1 2 2 2 1 0 1 1 0 0 2 0\n",
      " 0 0 2 2 0 1 2 2 2 1 2 0 2 0 0 2 2 0 0 2 1 2 2 1 2 1 2 1 0 0 1 2 1 1 0 0 2\n",
      " 1 1 1 0 1 2 0 2 0 2 1 1 0 1 0 1 2 2 0 0 1 1 2 1 0 0 1 1 0 2 2 1 1 1 0 0 2\n",
      " 0 1 1 0 2 0 1 0 0 0 1 1 0 0 2 1 2 2 1 0 1 2 2 1 2 0 1 1 2 2 2 0 0 1 2 2 1\n",
      " 0 1 1 0 2 2 2 0 2 1 0 1 1 2 0 1 1 2 2 1 0 0 2 2 1 0 1 1 1 2 1 1 1 2 1 2 0\n",
      " 0 0 0 1 0 0 0 1 1 1 1 2 0 2 1 2 1 0 1 1 0 2 2 2 2 2 2 0 0 0 2 2 0 0 1 0 1\n",
      " 2 1 0 0 0 0 1 1 2 2 2 2 1 0 1 2 1 1 1 2 2 1 1 0 1 0 1 1 0 2 0 1 1 1 2 2 1\n",
      " 2 1 1 1 0 2 0 0 2 2 1 2 0 0 2 2 1 2 2 1 2 0 1 0 2 2 1 2 0 1 1 0 2 1 1 0 1\n",
      " 0 1 1 1 2 0 1 1 1 1 1 2 0 2 1 0 2 0 2 1 0 1 2 2 2 1 1 1 0 1 1 0 0 0 1 1 1\n",
      " 2 0 0 1 2 0 2 0 0 2 2 0 2 2 2 2 1 2 2 1 1 1 2 0 2 0 2 0 2 2 0 2 1 2 0 1 1\n",
      " 0 2 2 2 2 2 1 2 2 0 0 0 1 2 2 1 0 2 1 2 2 1 0 0 1 1 0 2 0 0 0 0 1 1 2 0 0\n",
      " 2 1 0 0 0 2 1 0 0 2 0 0 0 0 1 1 2 2 0 2 1 2 1 0 2 2 2 2 2 0 0 1 0 0 1 2 0\n",
      " 0 2 2 1 1 2 0 0 1 1 1 2 0 1 2 2 0 0 2 1 2 2 0 1 1 2 2 0 1 1 2 1 0 2 2 1 1\n",
      " 2 0 1 0 2 0 2 2 0 2 0 1 1 2 1 2 1 2 2 1 1 1 1 0 1 2 2 1 0 1 2 1 1 2 1 1 1\n",
      " 0 0 0 0 1 2 1 1 0 2 1 1 1 1 1 2 0 1 0 0 1 2 0 1 2 0 0 2 2 2 1 1 0 2 1 2 0\n",
      " 2 1 0 1 0 0 2 0 0 0 2 2 2 1 1 2 1 1 1 1 1 2 1 0 1 1 0 0 0 0 1 1 2 0 2 1 2\n",
      " 2 0 2 2 0 0 0 0 1 2 1 0 0 0 2 2 0 2 1 0 1 1 2 2 0 1 0 1 2 0 0 1 2 0 0 2 2\n",
      " 1 1 1 0 0 0 2 2 1 0 1 0 1 2 1 2 1 1 1 1 1 0 0 1 1 2 1 0 0 2 0 0 2 1 1 1 2\n",
      " 2 0 2 0 2 0 2 1 0 2 2 0 0 2 0 1 0 0 0 0 2 2 1 2 2 1 1 1 2 0 0 2 1 2 1 0 0\n",
      " 0 1 1 2 0 0 0 0 1 2 2 2]\n"
     ]
    }
   ],
   "source": [
    "import numpy as np\n",
    "## generate x using np.random.randint()\n",
    "x = np.random.randint(0, 3, max_circuits)\n",
    "print(x)"
   ]
  },
  {
   "cell_type": "markdown",
   "id": "23d01ebd",
   "metadata": {},
   "source": [
    "Next, we'll generate a list of circuits to send to the device. Understand and complete the following code. [This](https://qiskit.org/documentation/stubs/qiskit.circuit.QuantumCircuit.html) page may be helpful.\n",
    "\n",
    "See also [qiskit circuit tutorials](https://qiskit.org/documentation/tutorials/circuits/index.html)\n",
    "(and other linked tutorials, including\n",
    "[advanced circuit tutorials](https://qiskit.org/documentation/tutorials/circuits_advanced/index.html)\n",
    "and [quantum operations](https://qiskit.org/documentation/tutorials/circuits/3_summary_of_quantum_operations.html) ).\n",
    "\n",
    "With qubits from top to bottom labelled as Alice, Bob, Charlie, for the i'th circuit the code associates r,s,t = (0,0,0) to x[i]=0, and r,s,t = (1,0,0), (0,1,0), (0,0,1) to x[i] = 1,2,3, resp., as noted above."
   ]
  },
  {
   "cell_type": "code",
   "execution_count": 6,
   "id": "0666ca37",
   "metadata": {
    "tags": []
   },
   "outputs": [],
   "source": [
    "from qiskit import QuantumCircuit\n",
    "\n",
    "qc_all = []\n",
    "for i in range(max_circuits):\n",
    "    qc = QuantumCircuit(3,3) \n",
    "      #  Creates a quantum circuit with three quantum registers (first argument)\n",
    "      #      and three classical registers (second argument).\n",
    "      #  The quantum registers are the qubits, and the classical registers store measurment outcomes.\n",
    "    qc.h(1) # apply a Hadamard to qubit 0\n",
    "    qc.cx(1,0) # apply a CNOT with qubit 1 as the control qubit and qubit 0 as the target qubit.\n",
    "    qc.cx(1,2) # apply a CNOT with qubit 1 as the control qubit and qubit 2 as the target qubit.\n",
    "    qc.barrier()\n",
    "    # Now we have set up a GHZ state.\n",
    "    if x[i] == 1:\n",
    "        qc.sdg([1,2])\n",
    "    elif x[i] == 2:\n",
    "        qc.sdg([0,2])\n",
    "    elif x[i] == 3:\n",
    "        qc.sdg([0,1])\n",
    "    qc.h(range(3))\n",
    "    qc.barrier()\n",
    "    qc.measure(range(3),range(3))\n",
    "    qc_all.append(qc)"
   ]
  },
  {
   "cell_type": "code",
   "execution_count": 7,
   "id": "3dcb7d44",
   "metadata": {
    "tags": []
   },
   "outputs": [
    {
     "data": {
      "image/png": "[encoded data removed]",
      "text/plain": [
       "<Figure size 688.597x264.88 with 1 Axes>"
      ]
     },
     "execution_count": 7,
     "metadata": {},
     "output_type": "execute_result"
    }
   ],
   "source": [
    "# You can visualize your circuits using\n",
    "qc_all[0].draw('mpl')"
   ]
  },
  {
   "cell_type": "markdown",
   "id": "ff126871",
   "metadata": {},
   "source": [
    "For further documentation see, [circuit_visualization](https://qiskit.org/documentation/tutorials/circuits_advanced/03_advanced_circuit_visualization.html)"
   ]
  },
  {
   "cell_type": "code",
   "execution_count": 8,
   "id": "8b1a37c6",
   "metadata": {
    "tags": []
   },
   "outputs": [
    {
     "data": {
      "image/png": "[encoded data removed]",
      "text/plain": [
       "<Figure size 688.597x264.88 with 1 Axes>"
      ]
     },
     "metadata": {},
     "output_type": "display_data"
    },
    {
     "data": {
      "image/png": "[encoded data removed]",
      "text/plain": [
       "<Figure size 628.397x264.88 with 1 Axes>"
      ]
     },
     "metadata": {},
     "output_type": "display_data"
    },
    {
     "data": {
      "image/png": "[encoded data removed]",
      "text/plain": [
       "<Figure size 688.597x264.88 with 1 Axes>"
      ]
     },
     "metadata": {},
     "output_type": "display_data"
    },
    {
     "data": {
      "image/png": "[encoded data removed]",
      "text/plain": [
       "<Figure size 628.397x264.88 with 1 Axes>"
      ]
     },
     "metadata": {},
     "output_type": "display_data"
    }
   ],
   "source": [
    "# or visualize the first four as\n",
    "%matplotlib inline\n",
    "import matplotlib.pyplot as plt\n",
    "\n",
    "for i in range(4):\n",
    "    fig=plt.figure()\n",
    "    qc_all[i].draw('mpl', ax=plt.gca())"
   ]
  },
  {
   "cell_type": "markdown",
   "id": "a4487114",
   "metadata": {},
   "source": [
    "Next, let's execute the circuits on the device and qubits that you chose. Understand the following code. The following pages may help:\n",
    "\n",
    "https://qiskit.org/documentation/apidoc/execute.html\n",
    "\n",
    "https://qiskit.org/documentation/stubs/qiskit.providers.ibmq.IBMQBackend.html"
   ]
  },
  {
   "cell_type": "code",
   "execution_count": 9,
   "id": "a9ad5384",
   "metadata": {
    "tags": []
   },
   "outputs": [],
   "source": [
    "from qiskit import IBMQ, execute\n",
    "IBMQ.load_account() # load your IBMQ credentials\n",
    "provider = IBMQ.get_provider(hub='ibm-q-education', group='cornell-uni-2', project='physics-4481')"
   ]
  },
  {
   "cell_type": "code",
   "execution_count": 14,
   "id": "f97bb6f6",
   "metadata": {
    "tags": []
   },
   "outputs": [],
   "source": [
    "backend = provider.backend.backends(device_name)[0] # the backend is the quantum computer that you picked.\n",
    "tags = ['GHZ', f'x = {list(x)}'] # set some tags to describe the experiment."
   ]
  },
  {
   "cell_type": "code",
   "execution_count": 15,
   "id": "f0ad5d41",
   "metadata": {
    "tags": []
   },
   "outputs": [],
   "source": [
    "job = execute(qc_all, backend, initial_layout=qubits, job_tags = tags, shots = 1)"
   ]
  },
  {
   "cell_type": "markdown",
   "id": "c79795a9",
   "metadata": {},
   "source": [
    "This might take some time to go through the queue and run. You can click on `jobs` near the top left of the screen to watch its status. Once it finishes, analyze the result. Fill in the remaining code to compute the fraction of the time (in your sample) that Alice and Bob won. Perform a binomial test to determine whether they beat the classical success rate. See [this](https://docs.scipy.org/doc/scipy/reference/generated/scipy.stats.binomtest.html) page for documentation of SciPy's function that performs a binomial test. (You are checking to see whether the number of wins `k` for your total number of trials `n` is inconsistent with `p=.75`)"
   ]
  },
  {
   "cell_type": "code",
   "execution_count": 31,
   "id": "355dc18f",
   "metadata": {
    "tags": []
   },
   "outputs": [],
   "source": [
    "counts = job.result().get_counts() # this returns list of dictionaries of the results for each circuit we executed."
   ]
  },
  {
   "cell_type": "markdown",
   "id": "46abbd63",
   "metadata": {},
   "source": [
    "The list returned will be of the form\n",
    "\n",
    "    [{'001': 1}, {'100': 1}, {'111': 1}, ...]\n",
    "with only one result per circuit because each was run only once.\n",
    "\n",
    "You can get a list of the results using\n",
    "\n",
    "    results = np.array([list(c) for c in counts]).flatten()\n",
    "    \n",
    "and check if each result wins the game for the specified value of x (even number of 1's for x=0, otherwise odd number of 1's)."
   ]
  },
  {
   "cell_type": "code",
   "execution_count": 17,
   "id": "45dbfeb2",
   "metadata": {
    "tags": []
   },
   "outputs": [],
   "source": [
    "results = np.array([list(c) for c in counts]).flatten()"
   ]
  },
  {
   "cell_type": "code",
   "execution_count": 55,
   "id": "4687830e-f6c6-4538-94d2-a73ecbd0459d",
   "metadata": {},
   "outputs": [
    {
     "name": "stdout",
     "output_type": "stream",
     "text": [
      "probability of winning 95.22 %\n"
     ]
    }
   ],
   "source": [
    "# Compute the fraction of the time that Alice and Bob won\n",
    "# define the number of wins to be k\n",
    "k = 0\n",
    "for i in range(len(results)):\n",
    "    if x[i] == 0:\n",
    "        if sum(int(digit) for digit in results[i]) %2 == 0:\n",
    "            k += 1\n",
    "    else:\n",
    "        if sum(int(digit) for digit in results[i]) %2 == 1:\n",
    "            k += 1\n",
    "            \n",
    "p_quantum = k/len(results)\n",
    "print(\"probability of winning\", round(k/len(results)*100, 2), \"%\")\n",
    "         "
   ]
  },
  {
   "cell_type": "code",
   "execution_count": 73,
   "id": "8d201186-feef-45b8-bd42-abc3d0665b85",
   "metadata": {},
   "outputs": [
    {
     "name": "stdout",
     "output_type": "stream",
     "text": [
      "Binomial test: p-value of the hypothesis 8.276910253591913e-60\n",
      "The null hypothesis is rejected.\u0007nd the alternatice hypothesis is valid.\n",
      "Alice and Bob can beat the calssical winnig limit 75%!\n"
     ]
    }
   ],
   "source": [
    "# Binomial test to determine whether Alice and BOb beat the classicla success rate\n",
    "# i.e. the # of wins k for thetotal number of trials n is inconsistent with p=.75\n",
    "import scipy.stats as stats\n",
    "p_classical = .75\n",
    "result = stats.binomtest(k, len(results), p_classical, alternative = 'greater')\n",
    "print(\"Binomial test: p-value of the hypothesis\", result.pvalue)\n",
    "if result.pvalue > .05:\n",
    "    print('The null hypothesis is valid. Alice and Bob cannot beat the classical winnig limit 75%.')\n",
    "else:\n",
    "    print(\"The null hypothesis is rejected.\\and the alternatice hypothesis is valid.\\nAlice and Bob can beat the calssical winnig limit 75%!\")\n"
   ]
  },
  {
   "cell_type": "code",
   "execution_count": null,
   "id": "9db484b0-521e-4d56-8e15-6b89e517df6c",
   "metadata": {},
   "outputs": [],
   "source": []
  }
 ],
 "metadata": {
  "kernelspec": {
   "display_name": "Qiskit v0.30.0 (ipykernel)",
   "language": "python",
   "name": "python3"
  },
  "language_info": {
   "codemirror_mode": {
    "name": "ipython",
    "version": 3
   },
   "file_extension": ".py",
   "mimetype": "text/x-python",
   "name": "python",
   "nbconvert_exporter": "python",
   "pygments_lexer": "ipython3",
   "version": "3.8.10"
  },
  "widgets": {
   "application/vnd.jupyter.widget-state+json": {
    "state": {},
    "version_major": 2,
    "version_minor": 0
   }
  }
 },
 "nbformat": 4,
 "nbformat_minor": 5
}

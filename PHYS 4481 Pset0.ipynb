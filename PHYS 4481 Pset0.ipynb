{
 "cells": [
  {
   "cell_type": "markdown",
   "id": "540b95df",
   "metadata": {},
   "source": [
    "## physics4481-7681/cs4812 ps0\n",
    "### Zoey Hu (zh84)"
   ]
  },
  {
   "cell_type": "code",
   "execution_count": 1,
   "id": "e9b6b0d6",
   "metadata": {},
   "outputs": [
    {
     "name": "stdout",
     "output_type": "stream",
     "text": [
      "hello world!\n"
     ]
    }
   ],
   "source": [
    "print (\"hello world!\")   #python 3 uses parentheses"
   ]
  },
  {
   "cell_type": "markdown",
   "id": "f6d86191",
   "metadata": {},
   "source": [
    "# I. first set of examples (from ER)\n",
    "(so complain to him, or feel free to suggest better examples for next year)"
   ]
  },
  {
   "cell_type": "markdown",
   "id": "a7baaefb",
   "metadata": {},
   "source": [
    "## Data types in Python\n"
   ]
  },
  {
   "cell_type": "markdown",
   "id": "af893be3",
   "metadata": {},
   "source": [
    "### Lists\n",
    "\n",
    "Make sure that you are familiar with lists in Python. If not, search the internet. You should understand what all of the following commands are doing:"
   ]
  },
  {
   "cell_type": "code",
   "execution_count": 2,
   "id": "e58f23df",
   "metadata": {},
   "outputs": [],
   "source": [
    "l0 = [0,1,2]\n",
    "l1 = list(range(3))\n",
    "l2 = [ _ for _ in range(3)]\n",
    "l3 = [l0, l1, l2]\n",
    "l4 = l0 + l1 + l2\n",
    "l5 = 3*l0"
   ]
  },
  {
   "cell_type": "code",
   "execution_count": 3,
   "id": "77c2553d",
   "metadata": {},
   "outputs": [
    {
     "data": {
      "text/plain": [
       "[0, 1, 2]"
      ]
     },
     "execution_count": 3,
     "metadata": {},
     "output_type": "execute_result"
    }
   ],
   "source": [
    "l0"
   ]
  },
  {
   "cell_type": "code",
   "execution_count": 4,
   "id": "31de96a8",
   "metadata": {},
   "outputs": [
    {
     "data": {
      "text/plain": [
       "0"
      ]
     },
     "execution_count": 4,
     "metadata": {},
     "output_type": "execute_result"
    }
   ],
   "source": [
    "l0[0]"
   ]
  },
  {
   "cell_type": "code",
   "execution_count": 5,
   "id": "31a454ad",
   "metadata": {},
   "outputs": [
    {
     "data": {
      "text/plain": [
       "2"
      ]
     },
     "execution_count": 5,
     "metadata": {},
     "output_type": "execute_result"
    }
   ],
   "source": [
    "l0[-1]"
   ]
  },
  {
   "cell_type": "code",
   "execution_count": 6,
   "id": "afa86a6c",
   "metadata": {},
   "outputs": [
    {
     "data": {
      "text/plain": [
       "[1, 2]"
      ]
     },
     "execution_count": 6,
     "metadata": {},
     "output_type": "execute_result"
    }
   ],
   "source": [
    "l0[1:]"
   ]
  },
  {
   "cell_type": "code",
   "execution_count": 7,
   "id": "23e4c36e",
   "metadata": {},
   "outputs": [
    {
     "data": {
      "text/plain": [
       "[[0, 1, 2], [0, 1, 2], [0, 1, 2]]"
      ]
     },
     "execution_count": 7,
     "metadata": {},
     "output_type": "execute_result"
    }
   ],
   "source": [
    "l3"
   ]
  },
  {
   "cell_type": "code",
   "execution_count": 8,
   "id": "f5c51cec",
   "metadata": {},
   "outputs": [
    {
     "data": {
      "text/plain": [
       "1"
      ]
     },
     "execution_count": 8,
     "metadata": {},
     "output_type": "execute_result"
    }
   ],
   "source": [
    "l3[1][1]"
   ]
  },
  {
   "cell_type": "code",
   "execution_count": 9,
   "id": "0cc97d77",
   "metadata": {},
   "outputs": [
    {
     "data": {
      "text/plain": [
       "[0, 1, 2, 0, 1, 2, 0, 1, 2]"
      ]
     },
     "execution_count": 9,
     "metadata": {},
     "output_type": "execute_result"
    }
   ],
   "source": [
    "l5"
   ]
  },
  {
   "cell_type": "code",
   "execution_count": 10,
   "id": "980d0df4",
   "metadata": {},
   "outputs": [
    {
     "data": {
      "text/plain": [
       "[0, 1, 2, 0, 1, 2, 0, 1, 2]"
      ]
     },
     "execution_count": 10,
     "metadata": {},
     "output_type": "execute_result"
    }
   ],
   "source": [
    "l4"
   ]
  },
  {
   "cell_type": "code",
   "execution_count": 11,
   "id": "b154fe01",
   "metadata": {},
   "outputs": [
    {
     "data": {
      "text/plain": [
       "[0, 1, 2, 0, 1, 2, 0, 1]"
      ]
     },
     "execution_count": 11,
     "metadata": {},
     "output_type": "execute_result"
    }
   ],
   "source": [
    "l4[:-1]"
   ]
  },
  {
   "cell_type": "code",
   "execution_count": 12,
   "id": "4e720446",
   "metadata": {},
   "outputs": [
    {
     "data": {
      "text/plain": [
       "1"
      ]
     },
     "execution_count": 12,
     "metadata": {},
     "output_type": "execute_result"
    }
   ],
   "source": [
    "l4.index(1)"
   ]
  },
  {
   "cell_type": "code",
   "execution_count": 13,
   "id": "82a478a9",
   "metadata": {},
   "outputs": [
    {
     "data": {
      "text/plain": [
       "(True, False)"
      ]
     },
     "execution_count": 13,
     "metadata": {},
     "output_type": "execute_result"
    }
   ],
   "source": [
    "0 in l4, 4 in l4"
   ]
  },
  {
   "cell_type": "code",
   "execution_count": 14,
   "id": "7d5c00aa",
   "metadata": {},
   "outputs": [
    {
     "data": {
      "text/plain": [
       "[0, 1, 2, 4]"
      ]
     },
     "execution_count": 14,
     "metadata": {},
     "output_type": "execute_result"
    }
   ],
   "source": [
    "l0.append(4)\n",
    "l0"
   ]
  },
  {
   "cell_type": "code",
   "execution_count": 15,
   "id": "27bda991",
   "metadata": {},
   "outputs": [
    {
     "data": {
      "text/plain": [
       "[0, 1, 2, 4, 5]"
      ]
     },
     "execution_count": 15,
     "metadata": {},
     "output_type": "execute_result"
    }
   ],
   "source": [
    "l0 += [5]\n",
    "l0"
   ]
  },
  {
   "cell_type": "code",
   "execution_count": 16,
   "id": "697fa0e9",
   "metadata": {},
   "outputs": [
    {
     "data": {
      "text/plain": [
       "([0, 1, 2], 3)"
      ]
     },
     "execution_count": 16,
     "metadata": {},
     "output_type": "execute_result"
    }
   ],
   "source": [
    "l2, sum(l2)"
   ]
  },
  {
   "cell_type": "markdown",
   "id": "e80ab76c",
   "metadata": {},
   "source": [
    "### Exercise:\n",
    "Create a list, called `l6`, that contains the integers from -100 to 200 that are multiples of 4, in order, and including both endpoints."
   ]
  },
  {
   "cell_type": "code",
   "execution_count": 17,
   "id": "af7d1ebb",
   "metadata": {},
   "outputs": [],
   "source": [
    "l6 = [i for i in range(-100, 201, 4)]"
   ]
  },
  {
   "cell_type": "code",
   "execution_count": 18,
   "id": "2458451f",
   "metadata": {},
   "outputs": [
    {
     "name": "stdout",
     "output_type": "stream",
     "text": [
      "[-100, -96, -92, -88, -84, -80, -76, -72, -68, -64, -60, -56, -52, -48, -44, -40, -36, -32, -28, -24, -20, -16, -12, -8, -4, 0, 4, 8, 12, 16, 20, 24, 28, 32, 36, 40, 44, 48, 52, 56, 60, 64, 68, 72, 76, 80, 84, 88, 92, 96, 100, 104, 108, 112, 116, 120, 124, 128, 132, 136, 140, 144, 148, 152, 156, 160, 164, 168, 172, 176, 180, 184, 188, 192, 196, 200]\n"
     ]
    }
   ],
   "source": [
    "print(l6)"
   ]
  },
  {
   "cell_type": "markdown",
   "id": "a38e6097",
   "metadata": {},
   "source": [
    "## Sets\n",
    "\n",
    "Make sure that you understand the following commands:"
   ]
  },
  {
   "cell_type": "code",
   "execution_count": 19,
   "id": "7212dc6c",
   "metadata": {},
   "outputs": [],
   "source": [
    "s0 = {3,1,2,0}"
   ]
  },
  {
   "cell_type": "code",
   "execution_count": 20,
   "id": "d92e6d0f",
   "metadata": {},
   "outputs": [
    {
     "data": {
      "text/plain": [
       "{0, 1, 2, 3}"
      ]
     },
     "execution_count": 20,
     "metadata": {},
     "output_type": "execute_result"
    }
   ],
   "source": [
    "s0"
   ]
  },
  {
   "cell_type": "code",
   "execution_count": 21,
   "id": "f3cd9b05",
   "metadata": {},
   "outputs": [
    {
     "data": {
      "text/plain": [
       "[0, 1, 2, 3]"
      ]
     },
     "execution_count": 21,
     "metadata": {},
     "output_type": "execute_result"
    }
   ],
   "source": [
    "list(s0)"
   ]
  },
  {
   "cell_type": "code",
   "execution_count": 22,
   "id": "3ccf62e5",
   "metadata": {},
   "outputs": [],
   "source": [
    "s1 = set()"
   ]
  },
  {
   "cell_type": "code",
   "execution_count": 23,
   "id": "747bce14",
   "metadata": {},
   "outputs": [
    {
     "data": {
      "text/plain": [
       "(set(), {0, 1, 2, 3})"
      ]
     },
     "execution_count": 23,
     "metadata": {},
     "output_type": "execute_result"
    }
   ],
   "source": [
    "s0 & s1, s0 | s1 # or s0.intersection(s1), s0.union(s1)"
   ]
  },
  {
   "cell_type": "code",
   "execution_count": 24,
   "id": "0f7d9529",
   "metadata": {},
   "outputs": [
    {
     "data": {
      "text/plain": [
       "5"
      ]
     },
     "execution_count": 24,
     "metadata": {},
     "output_type": "execute_result"
    }
   ],
   "source": [
    "s2 = {2,3}\n",
    "sum(s2)"
   ]
  },
  {
   "cell_type": "code",
   "execution_count": 25,
   "id": "62449213",
   "metadata": {},
   "outputs": [
    {
     "data": {
      "text/plain": [
       "{2, 3}"
      ]
     },
     "execution_count": 25,
     "metadata": {},
     "output_type": "execute_result"
    }
   ],
   "source": [
    "s0 & s2"
   ]
  },
  {
   "cell_type": "code",
   "execution_count": 26,
   "id": "0fae393a",
   "metadata": {},
   "outputs": [
    {
     "name": "stdout",
     "output_type": "stream",
     "text": [
      "{3}\n",
      "{3, 4, 5}\n"
     ]
    }
   ],
   "source": [
    "s1.add(3)\n",
    "print (s1)\n",
    "s1 |= {4,5}\n",
    "print (s1)"
   ]
  },
  {
   "cell_type": "code",
   "execution_count": 27,
   "id": "8ce82345",
   "metadata": {},
   "outputs": [
    {
     "data": {
      "text/plain": [
       "({0, 1, 2}, {4, 5})"
      ]
     },
     "execution_count": 27,
     "metadata": {},
     "output_type": "execute_result"
    }
   ],
   "source": [
    "s0 - s1, s1 - s0  #set theoretic differences"
   ]
  },
  {
   "cell_type": "code",
   "execution_count": 28,
   "id": "ecf3ae6d",
   "metadata": {},
   "outputs": [
    {
     "data": {
      "text/plain": [
       "([0, 1, 2, 0, 1, 2, 0, 1, 2], {0, 1, 2})"
      ]
     },
     "execution_count": 28,
     "metadata": {},
     "output_type": "execute_result"
    }
   ],
   "source": [
    "l4, set(l4)"
   ]
  },
  {
   "cell_type": "code",
   "execution_count": 29,
   "id": "24e9d85c",
   "metadata": {},
   "outputs": [
    {
     "name": "stdout",
     "output_type": "stream",
     "text": [
      "{0, 2, 4, 6, 8, 10, 12, 14, 16, 18, 20, 22, 24, 26, 28, 30, 32, 34, 36, 38, 40, 42, 44, 46, 48}\n"
     ]
    }
   ],
   "source": [
    "s4 = { _ for _ in range(50) if _%2 == 0}  #set(range(0,50,2))\n",
    "print (s4)"
   ]
  },
  {
   "cell_type": "code",
   "execution_count": 30,
   "id": "b79b14a8",
   "metadata": {},
   "outputs": [
    {
     "data": {
      "text/plain": [
       "(True, False)"
      ]
     },
     "execution_count": 30,
     "metadata": {},
     "output_type": "execute_result"
    }
   ],
   "source": [
    "2 in s4, 13 in s4"
   ]
  },
  {
   "cell_type": "markdown",
   "id": "4f3bbb8d",
   "metadata": {},
   "source": [
    "### Exercise\n",
    "\n",
    "Create a set, `s6`, that has the same content as `l6`."
   ]
  },
  {
   "cell_type": "code",
   "execution_count": 31,
   "id": "1de2eba5",
   "metadata": {},
   "outputs": [
    {
     "name": "stdout",
     "output_type": "stream",
     "text": [
      "{0, 128, 4, 132, 8, 136, 12, 140, 16, 144, 20, 148, 24, 152, -100, 28, 156, -96, 32, 160, -92, 36, 164, -88, 40, 168, -84, 44, 172, -80, 48, 176, -76, 52, 180, -72, 56, 184, -68, 60, 188, -64, 64, 192, -60, 68, 196, -56, 72, 200, -52, 76, -48, 80, -44, 84, -40, 88, -36, 92, 120, -32, 96, -28, 100, -24, 104, -20, 108, -16, 112, 124, -12, 116, -8, -4}\n"
     ]
    }
   ],
   "source": [
    "s6 = set(l6)\n",
    "print(s6)"
   ]
  },
  {
   "cell_type": "markdown",
   "id": "5a2f31b1",
   "metadata": {},
   "source": [
    "## Dictionaries\n",
    "\n",
    "Make sure you understand the following."
   ]
  },
  {
   "cell_type": "code",
   "execution_count": 32,
   "id": "b9b14e5e",
   "metadata": {},
   "outputs": [
    {
     "data": {
      "text/plain": [
       "{'outcome_0': 12, 'name': 'Bob', 'outcome_1': 20}"
      ]
     },
     "execution_count": 32,
     "metadata": {},
     "output_type": "execute_result"
    }
   ],
   "source": [
    "d0 = {'outcome_0':12, 'name':'Bob', 'outcome_1':20}\n",
    "d0"
   ]
  },
  {
   "cell_type": "code",
   "execution_count": 33,
   "id": "cb07318d",
   "metadata": {},
   "outputs": [
    {
     "data": {
      "text/plain": [
       "(['outcome_0', 'name', 'outcome_1'], [12, 'Bob', 20])"
      ]
     },
     "execution_count": 33,
     "metadata": {},
     "output_type": "execute_result"
    }
   ],
   "source": [
    "list(d0.keys()), list(d0.values())"
   ]
  },
  {
   "cell_type": "code",
   "execution_count": 34,
   "id": "70c97881",
   "metadata": {},
   "outputs": [
    {
     "data": {
      "text/plain": [
       "[('outcome_0', 12), ('name', 'Bob'), ('outcome_1', 20)]"
      ]
     },
     "execution_count": 34,
     "metadata": {},
     "output_type": "execute_result"
    }
   ],
   "source": [
    "list(d0.items())"
   ]
  },
  {
   "cell_type": "code",
   "execution_count": 35,
   "id": "238451cf",
   "metadata": {
    "scrolled": true
   },
   "outputs": [
    {
     "data": {
      "text/plain": [
       "(12, 'Bob')"
      ]
     },
     "execution_count": 35,
     "metadata": {},
     "output_type": "execute_result"
    }
   ],
   "source": [
    "d0['outcome_0'], d0['name']"
   ]
  },
  {
   "cell_type": "code",
   "execution_count": 36,
   "id": "5172a287",
   "metadata": {},
   "outputs": [
    {
     "data": {
      "text/plain": [
       "('Bob', 0)"
      ]
     },
     "execution_count": 36,
     "metadata": {},
     "output_type": "execute_result"
    }
   ],
   "source": [
    "d0.get('name'), d0.get('outcome_2',0)"
   ]
  },
  {
   "cell_type": "markdown",
   "id": "be1dd098",
   "metadata": {},
   "source": [
    "## For loops\n",
    "\n",
    "You can iterate over the elements of a list, set or dictionary. Make sure you understand the following."
   ]
  },
  {
   "cell_type": "code",
   "execution_count": 37,
   "id": "2c9fb8e7",
   "metadata": {},
   "outputs": [
    {
     "name": "stdout",
     "output_type": "stream",
     "text": [
      "0\n",
      "2\n",
      "4\n",
      "0\n",
      "2\n",
      "4\n",
      "0\n",
      "2\n",
      "4\n"
     ]
    }
   ],
   "source": [
    "for i in l4:\n",
    "    print(2*i)"
   ]
  },
  {
   "cell_type": "code",
   "execution_count": 38,
   "id": "265b481a",
   "metadata": {},
   "outputs": [
    {
     "name": "stdout",
     "output_type": "stream",
     "text": [
      "4\n",
      "9\n"
     ]
    }
   ],
   "source": [
    "for i in s2:\n",
    "    print(i**2)"
   ]
  },
  {
   "cell_type": "code",
   "execution_count": 39,
   "id": "f2dcc5c3",
   "metadata": {},
   "outputs": [
    {
     "name": "stdout",
     "output_type": "stream",
     "text": [
      "name\n",
      "outcome_0\n",
      "outcome_1\n"
     ]
    }
   ],
   "source": [
    "for j in sorted(d0):\n",
    "    print(j)"
   ]
  },
  {
   "cell_type": "markdown",
   "id": "f28c6002",
   "metadata": {},
   "source": [
    "## NumPy arrays\n",
    "\n",
    "Make sure you understand the following."
   ]
  },
  {
   "cell_type": "code",
   "execution_count": 40,
   "id": "63ea6350",
   "metadata": {},
   "outputs": [],
   "source": [
    "import numpy as np"
   ]
  },
  {
   "cell_type": "code",
   "execution_count": 41,
   "id": "7c7f0a85",
   "metadata": {},
   "outputs": [
    {
     "data": {
      "text/plain": [
       "array([0, 1, 2, 3, 4, 5, 6, 7, 8, 9])"
      ]
     },
     "execution_count": 41,
     "metadata": {},
     "output_type": "execute_result"
    }
   ],
   "source": [
    "x = np.arange(10)\n",
    "x"
   ]
  },
  {
   "cell_type": "code",
   "execution_count": 42,
   "id": "56a0b4e9",
   "metadata": {},
   "outputs": [
    {
     "name": "stdout",
     "output_type": "stream",
     "text": [
      "0\n",
      "2\n",
      "4\n",
      "6\n",
      "8\n",
      "10\n",
      "12\n",
      "14\n",
      "16\n",
      "18\n"
     ]
    }
   ],
   "source": [
    "for i in x:\n",
    "    print(2*i)"
   ]
  },
  {
   "cell_type": "code",
   "execution_count": 43,
   "id": "12de9dcb",
   "metadata": {},
   "outputs": [
    {
     "data": {
      "text/plain": [
       "array([ 0,  2,  4,  6,  8, 10, 12, 14, 16, 18])"
      ]
     },
     "execution_count": 43,
     "metadata": {},
     "output_type": "execute_result"
    }
   ],
   "source": [
    "2*x"
   ]
  },
  {
   "cell_type": "code",
   "execution_count": 44,
   "id": "330ff887",
   "metadata": {},
   "outputs": [
    {
     "data": {
      "text/plain": [
       "array([ 0,  3,  8, 15, 24, 35, 48, 63, 80, 99])"
      ]
     },
     "execution_count": 44,
     "metadata": {},
     "output_type": "execute_result"
    }
   ],
   "source": [
    "x**2 + 2*x"
   ]
  },
  {
   "cell_type": "code",
   "execution_count": 45,
   "id": "d180e81e",
   "metadata": {},
   "outputs": [
    {
     "data": {
      "text/plain": [
       "array([ 1,  2,  3,  4,  5,  6,  7,  8,  9, 10])"
      ]
     },
     "execution_count": 45,
     "metadata": {},
     "output_type": "execute_result"
    }
   ],
   "source": [
    "x + 1"
   ]
  },
  {
   "cell_type": "code",
   "execution_count": 46,
   "id": "eb91272e",
   "metadata": {},
   "outputs": [
    {
     "data": {
      "text/plain": [
       "(array([1.00000000e+00, 2.71828183e+00, 7.38905610e+00, 2.00855369e+01,\n",
       "        5.45981500e+01, 1.48413159e+02, 4.03428793e+02, 1.09663316e+03,\n",
       "        2.98095799e+03, 8.10308393e+03]),\n",
       " array([0.        , 0.69314718, 1.09861229, 1.38629436, 1.60943791,\n",
       "        1.79175947, 1.94591015, 2.07944154, 2.19722458, 2.30258509]))"
      ]
     },
     "execution_count": 46,
     "metadata": {},
     "output_type": "execute_result"
    }
   ],
   "source": [
    "np.exp(x), np.log(x+1)"
   ]
  },
  {
   "cell_type": "code",
   "execution_count": 47,
   "id": "4438f168",
   "metadata": {},
   "outputs": [
    {
     "data": {
      "text/plain": [
       "(array([0. , 0.5, 1. , 1.5, 2. , 2.5, 3. , 3.5, 4. , 4.5]),\n",
       " array([0, 0, 1, 1, 2, 2, 3, 3, 4, 4]))"
      ]
     },
     "execution_count": 47,
     "metadata": {},
     "output_type": "execute_result"
    }
   ],
   "source": [
    "x/2, x//2"
   ]
  },
  {
   "cell_type": "code",
   "execution_count": 48,
   "id": "506b95e1",
   "metadata": {},
   "outputs": [
    {
     "data": {
      "text/plain": [
       "array([0, 1, 0, 1, 0, 1, 0, 1, 0, 1])"
      ]
     },
     "execution_count": 48,
     "metadata": {},
     "output_type": "execute_result"
    }
   ],
   "source": [
    "y = x%2\n",
    "y"
   ]
  },
  {
   "cell_type": "code",
   "execution_count": 49,
   "id": "43df0f0a",
   "metadata": {},
   "outputs": [
    {
     "data": {
      "text/plain": [
       "array([0, 1, 0, 3, 0, 5, 0, 7, 0, 9])"
      ]
     },
     "execution_count": 49,
     "metadata": {},
     "output_type": "execute_result"
    }
   ],
   "source": [
    "x*y #element-wise multiplication"
   ]
  },
  {
   "cell_type": "code",
   "execution_count": 50,
   "id": "66c1d265",
   "metadata": {},
   "outputs": [
    {
     "data": {
      "text/plain": [
       "(25, 25, 25)"
      ]
     },
     "execution_count": 50,
     "metadata": {},
     "output_type": "execute_result"
    }
   ],
   "source": [
    "x@y, x.dot(y),(x*y).sum()  #all the same, vector dot products"
   ]
  },
  {
   "cell_type": "code",
   "execution_count": 51,
   "id": "70efd0df",
   "metadata": {},
   "outputs": [
    {
     "name": "stdout",
     "output_type": "stream",
     "text": [
      "A=[[0.5 0.  0. ]\n",
      " [0.  0.5 0. ]\n",
      " [0.  0.  0.5]]\n",
      "B=[[1. 1. 1.]\n",
      " [1. 1. 1.]\n",
      " [1. 1. 1.]]\n"
     ]
    }
   ],
   "source": [
    "A = .5*np.eye(3)\n",
    "B = np.ones((3,3))\n",
    "print(f'A={A}\\nB={B}')"
   ]
  },
  {
   "cell_type": "code",
   "execution_count": 52,
   "id": "a0f4d101",
   "metadata": {},
   "outputs": [
    {
     "data": {
      "text/plain": [
       "array([[0.5, 0. , 0. ],\n",
       "       [0. , 0.5, 0. ],\n",
       "       [0. , 0. , 0.5]])"
      ]
     },
     "execution_count": 52,
     "metadata": {},
     "output_type": "execute_result"
    }
   ],
   "source": [
    "A*B #element by element multiplication"
   ]
  },
  {
   "cell_type": "code",
   "execution_count": 53,
   "id": "5bc43f2d",
   "metadata": {},
   "outputs": [
    {
     "data": {
      "text/plain": [
       "array([[0.5, 0.5, 0.5],\n",
       "       [0.5, 0.5, 0.5],\n",
       "       [0.5, 0.5, 0.5]])"
      ]
     },
     "execution_count": 53,
     "metadata": {},
     "output_type": "execute_result"
    }
   ],
   "source": [
    "A@B #or A.dot(B) (matrix multiplication)"
   ]
  },
  {
   "cell_type": "code",
   "execution_count": 54,
   "id": "2455cbef",
   "metadata": {},
   "outputs": [
    {
     "data": {
      "text/plain": [
       "array([[0, 1],\n",
       "       [0, 1]])"
      ]
     },
     "execution_count": 54,
     "metadata": {},
     "output_type": "execute_result"
    }
   ],
   "source": [
    "C = np.array([[0,1],[0,1]])\n",
    "C"
   ]
  },
  {
   "cell_type": "code",
   "execution_count": 55,
   "id": "4a9fe0dd",
   "metadata": {},
   "outputs": [
    {
     "data": {
      "text/plain": [
       "array([0, 2])"
      ]
     },
     "execution_count": 55,
     "metadata": {},
     "output_type": "execute_result"
    }
   ],
   "source": [
    "C.sum(0) #sum along column"
   ]
  },
  {
   "cell_type": "code",
   "execution_count": 56,
   "id": "f51d0c6f",
   "metadata": {},
   "outputs": [],
   "source": [
    " #sum along row"
   ]
  },
  {
   "cell_type": "code",
   "execution_count": 57,
   "id": "4d9577c9",
   "metadata": {},
   "outputs": [
    {
     "name": "stdout",
     "output_type": "stream",
     "text": [
      "[0 1]\n",
      "[0 1]\n"
     ]
    }
   ],
   "source": [
    "for row in C:\n",
    "    print(row)"
   ]
  },
  {
   "cell_type": "markdown",
   "id": "c94b3375",
   "metadata": {},
   "source": [
    "## Random number generation\n",
    "\n",
    "Make sure you understand the following. See [this](https://numpy.org/doc/stable/reference/random/generator.html) page for documentation."
   ]
  },
  {
   "cell_type": "code",
   "execution_count": 58,
   "id": "4194d8fd",
   "metadata": {},
   "outputs": [
    {
     "data": {
      "text/plain": [
       "array([0.24276899, 0.62758251, 0.9806576 , 0.70080979, 0.89416689,\n",
       "       0.94288136, 0.86354949, 0.06937352, 0.24568183, 0.46903073])"
      ]
     },
     "execution_count": 58,
     "metadata": {},
     "output_type": "execute_result"
    }
   ],
   "source": [
    "#generate 10 random numbers in the range 0 to 1\n",
    "from numpy.random import random,randint\n",
    "\n",
    "random(10)"
   ]
  },
  {
   "cell_type": "code",
   "execution_count": 59,
   "id": "09e38485",
   "metadata": {
    "scrolled": false
   },
   "outputs": [
    {
     "data": {
      "text/plain": [
       "array([[0, 1, 2, 0, 1, 2, 0, 2, 2, 1, 0, 2, 2, 2, 1, 0, 2, 1, 0, 0],\n",
       "       [0, 0, 2, 1, 2, 0, 2, 2, 0, 1, 1, 0, 2, 0, 2, 0, 2, 0, 0, 0],\n",
       "       [0, 1, 2, 2, 2, 2, 2, 2, 0, 0, 2, 1, 0, 2, 0, 0, 2, 0, 0, 2],\n",
       "       [0, 2, 1, 0, 2, 1, 1, 2, 1, 0, 2, 0, 2, 2, 2, 2, 1, 0, 2, 1],\n",
       "       [1, 1, 2, 1, 2, 1, 1, 1, 0, 1, 1, 1, 0, 2, 0, 2, 0, 2, 2, 1]])"
      ]
     },
     "execution_count": 59,
     "metadata": {},
     "output_type": "execute_result"
    }
   ],
   "source": [
    "randint(0,3,size=(5,20))"
   ]
  },
  {
   "cell_type": "code",
   "execution_count": 60,
   "id": "d707ea4e",
   "metadata": {},
   "outputs": [],
   "source": [
    "from numpy.random import default_rng\n",
    "rng = default_rng()"
   ]
  },
  {
   "cell_type": "code",
   "execution_count": 61,
   "id": "9f25da5d",
   "metadata": {},
   "outputs": [
    {
     "data": {
      "text/plain": [
       "array([0, 0, 0, 1, 1, 1, 1, 1, 0, 0, 0, 0, 1, 0, 1, 1, 0, 1, 0, 1, 1, 1,\n",
       "       1, 0, 0, 1, 0, 1, 1, 0, 1, 0, 1, 1, 0, 0, 0, 1, 0, 0, 0, 1, 0, 0,\n",
       "       1, 1, 1, 0, 0, 1, 0, 1, 1, 0, 0, 1, 0, 1, 0, 0, 1, 1, 0, 0, 0, 1,\n",
       "       0, 0, 0, 0, 1, 1, 0, 1, 0, 0, 0, 0, 1, 1, 0, 1, 1, 1, 0, 1, 1, 1,\n",
       "       1, 1, 1, 0, 0, 0, 1, 1, 1, 1, 0, 0])"
      ]
     },
     "execution_count": 61,
     "metadata": {},
     "output_type": "execute_result"
    }
   ],
   "source": [
    "rng.integers(0,2,(100,))"
   ]
  },
  {
   "cell_type": "code",
   "execution_count": 62,
   "id": "2f086d3d",
   "metadata": {},
   "outputs": [
    {
     "data": {
      "text/plain": [
       "array([0.83187166, 0.87319852, 0.14724258, 0.42186916, 0.62352238,\n",
       "       0.62882   , 0.34897948, 0.67753472, 0.7918293 , 0.66285069,\n",
       "       0.52038403, 0.34237655, 0.72710436, 0.31514815, 0.97919748,\n",
       "       0.92467089, 0.4918496 , 0.92639807, 0.26859937, 0.59529463,\n",
       "       0.74096308, 0.18048888, 0.6563433 , 0.2927552 , 0.47471713,\n",
       "       0.14205889, 0.75375114, 0.8901511 , 0.96543941, 0.5547283 ,\n",
       "       0.13194378, 0.1997551 , 0.94724285, 0.56441937, 0.95630582,\n",
       "       0.73789723, 0.07615138, 0.76890258, 0.03450205, 0.76882445,\n",
       "       0.9632142 , 0.56687336, 0.72301447, 0.45348699, 0.59666853,\n",
       "       0.62453287, 0.21973944, 0.36569097, 0.67070022, 0.83233057,\n",
       "       0.21459862, 0.3415788 , 0.58863637, 0.53990037, 0.60396869,\n",
       "       0.46454458, 0.0699198 , 0.71049939, 0.10725018, 0.68074192,\n",
       "       0.502426  , 0.48661639, 0.27543837, 0.08432016, 0.39330038,\n",
       "       0.3819956 , 0.26850391, 0.83054407, 0.63457476, 0.58097274,\n",
       "       0.01610961, 0.47375449, 0.47691686, 0.07555274, 0.52968755,\n",
       "       0.88246417, 0.43207182, 0.99772736, 0.69348511, 0.13824007,\n",
       "       0.26359492, 0.98255058, 0.43180655, 0.62847995, 0.56244418,\n",
       "       0.13917438, 0.86499431, 0.9317076 , 0.88738677, 0.8279739 ,\n",
       "       0.06961848, 0.78577778, 0.71832461, 0.2459848 , 0.20554298,\n",
       "       0.70625516, 0.64608265, 0.81946272, 0.91206807, 0.40224529])"
      ]
     },
     "execution_count": 62,
     "metadata": {},
     "output_type": "execute_result"
    }
   ],
   "source": [
    "rng.random((100,))"
   ]
  },
  {
   "cell_type": "markdown",
   "id": "21cbaef2",
   "metadata": {},
   "source": [
    "## Plotting with Matplotlib\n",
    "\n",
    "Make sure you understand the following. Then complete the exercise."
   ]
  },
  {
   "cell_type": "code",
   "execution_count": 63,
   "id": "f99cdfb1",
   "metadata": {},
   "outputs": [],
   "source": [
    "import matplotlib.pyplot as plt"
   ]
  },
  {
   "cell_type": "code",
   "execution_count": 64,
   "id": "1708f0e9",
   "metadata": {},
   "outputs": [],
   "source": [
    "x = np.linspace(-np.pi,np.pi,100)\n",
    "y = np.sin(x)"
   ]
  },
  {
   "cell_type": "code",
   "execution_count": 65,
   "id": "8dee583d",
   "metadata": {},
   "outputs": [
    {
     "data": {
      "image/png": "[encoded data removed]",
      "text/plain": [
       "<Figure size 432x288 with 1 Axes>"
      ]
     },
     "metadata": {
      "needs_background": "light"
     },
     "output_type": "display_data"
    }
   ],
   "source": [
    "plt.plot(x,y,label='y = sin(x)')\n",
    "plt.xlabel('x')\n",
    "plt.ylabel('y')\n",
    "plt.grid(ls=':')\n",
    "plt.legend();"
   ]
  },
  {
   "cell_type": "markdown",
   "id": "d4c8f60b",
   "metadata": {},
   "source": [
    "### Exercises:\n",
    "\n",
    "Using [norm.rvs()](https://docs.scipy.org/doc/scipy/reference/generated/scipy.stats.norm.html) (`from scipy.stats import norm`):\n",
    "\n",
    "A. Generate 10,000 random numbers from a Normal distribution (i.e. a Gaussian) with mean 0 and standard deviation 1. Square them, and plot a histogram of the result. Make sure to set `bins = 'auto'` when plotting the histogram.\n",
    "\n",
    "B. Generate 15,000 random numbers from a Normal distribution with mean 50 and standard deviation 5. Plot a histogram of the result setting `bins = range(30,71)` when plotting the histogram."
   ]
  },
  {
   "cell_type": "code",
   "execution_count": 66,
   "id": "3a4f79cd",
   "metadata": {},
   "outputs": [
    {
     "data": {
      "image/png": "[encoded data removed]",
      "text/plain": [
       "<Figure size 432x288 with 1 Axes>"
      ]
     },
     "metadata": {
      "needs_background": "light"
     },
     "output_type": "display_data"
    }
   ],
   "source": [
    "from scipy.stats import norm\n",
    "# Exercise A\n",
    "num = norm.rvs(size=10000, loc = 0, scale = 1)\n",
    "sqr_num = num**2\n",
    "plt.hist(sqr_num, bins = 'auto')\n",
    "plt.show()"
   ]
  },
  {
   "cell_type": "code",
   "execution_count": 67,
   "id": "056fb40d",
   "metadata": {},
   "outputs": [
    {
     "data": {
      "image/png": "[encoded data removed]",
      "text/plain": [
       "<Figure size 432x288 with 1 Axes>"
      ]
     },
     "metadata": {
      "needs_background": "light"
     },
     "output_type": "display_data"
    }
   ],
   "source": [
    "# Exercise B\n",
    "num = norm.rvs(size=15000, loc = 50, scale = 5)\n",
    "plt.hist(num, bins = range(30, 71))\n",
    "plt.show()"
   ]
  },
  {
   "cell_type": "markdown",
   "id": "d3f6c060",
   "metadata": {},
   "source": [
    "# II. Additional examples from Info 2950 [PG]"
   ]
  },
  {
   "cell_type": "code",
   "execution_count": 68,
   "id": "81af9c01",
   "metadata": {},
   "outputs": [],
   "source": [
    "alphabet = list('abcdefghijklmnopqrstuvwxyz')"
   ]
  },
  {
   "cell_type": "code",
   "execution_count": 69,
   "id": "679477ec",
   "metadata": {},
   "outputs": [
    {
     "data": {
      "text/plain": [
       "'bdfhjlnprtvxz'"
      ]
     },
     "execution_count": 69,
     "metadata": {},
     "output_type": "execute_result"
    }
   ],
   "source": [
    "''.join(np.array(alphabet)[range(1,26,2)])"
   ]
  },
  {
   "cell_type": "code",
   "execution_count": 70,
   "id": "17ac1641",
   "metadata": {},
   "outputs": [
    {
     "name": "stdout",
     "output_type": "stream",
     "text": [
      "['green' 'red' 'red' 'red' 'red' 'blue' 'red' 'red' 'blue' 'red' 'red'\n",
      " 'green' 'green' 'red' 'green' 'blue' 'green' 'red' 'red' 'blue']\n"
     ]
    }
   ],
   "source": [
    "print (np.array(['red','green','blue'])[np.random.randint(3,size=20)])"
   ]
  },
  {
   "cell_type": "code",
   "execution_count": 71,
   "id": "2f4e31d5",
   "metadata": {
    "scrolled": false
   },
   "outputs": [
    {
     "data": {
      "text/plain": [
       "{'a': 0,\n",
       " 'b': 1,\n",
       " 'c': 2,\n",
       " 'd': 3,\n",
       " 'e': 4,\n",
       " 'f': 5,\n",
       " 'g': 6,\n",
       " 'h': 7,\n",
       " 'i': 8,\n",
       " 'j': 9,\n",
       " 'k': 10,\n",
       " 'l': 11,\n",
       " 'm': 12,\n",
       " 'n': 13,\n",
       " 'o': 14,\n",
       " 'p': 15,\n",
       " 'q': 16,\n",
       " 'r': 17,\n",
       " 's': 18,\n",
       " 't': 19,\n",
       " 'u': 20,\n",
       " 'v': 21,\n",
       " 'w': 22,\n",
       " 'x': 23,\n",
       " 'y': 24,\n",
       " 'z': 25}"
      ]
     },
     "execution_count": 71,
     "metadata": {},
     "output_type": "execute_result"
    }
   ],
   "source": [
    "{k:i for i,k in enumerate(alphabet)}  #assign integer indices to the letters"
   ]
  },
  {
   "cell_type": "markdown",
   "id": "a68a3606",
   "metadata": {},
   "source": [
    "**Exercise:** Using a dictionary comprehension, as above, generate an inverse mapping with numbers from 0 to 25 as the keys, and with the letters in reverse order as values: {0:'z', ..., 25:'a'}"
   ]
  },
  {
   "cell_type": "code",
   "execution_count": 72,
   "id": "6ea73da2",
   "metadata": {},
   "outputs": [],
   "source": [
    "alphabet = list('abcdefghijklmnopqrstuvwxyz')"
   ]
  },
  {
   "cell_type": "code",
   "execution_count": 73,
   "id": "0a754d24",
   "metadata": {},
   "outputs": [
    {
     "data": {
      "text/plain": [
       "{0: 'a',\n",
       " 1: 'b',\n",
       " 2: 'c',\n",
       " 3: 'd',\n",
       " 4: 'e',\n",
       " 5: 'f',\n",
       " 6: 'g',\n",
       " 7: 'h',\n",
       " 8: 'i',\n",
       " 9: 'j',\n",
       " 10: 'k',\n",
       " 11: 'l',\n",
       " 12: 'm',\n",
       " 13: 'n',\n",
       " 14: 'o',\n",
       " 15: 'p',\n",
       " 16: 'q',\n",
       " 17: 'r',\n",
       " 18: 's',\n",
       " 19: 't',\n",
       " 20: 'u',\n",
       " 21: 'v',\n",
       " 22: 'w',\n",
       " 23: 'x',\n",
       " 24: 'y',\n",
       " 25: 'z'}"
      ]
     },
     "execution_count": 73,
     "metadata": {},
     "output_type": "execute_result"
    }
   ],
   "source": [
    "{i:k for i,k in enumerate(alphabet[::1])}  #assign integer indices to the letters"
   ]
  },
  {
   "cell_type": "markdown",
   "id": "5c5213ac",
   "metadata": {},
   "source": [
    "End of the exercise"
   ]
  },
  {
   "cell_type": "code",
   "execution_count": 74,
   "id": "39efc4c5",
   "metadata": {},
   "outputs": [
    {
     "data": {
      "text/plain": [
       "array([0.2756275 , 0.80412944, 0.2085775 , 0.29603686, 0.93440943,\n",
       "       0.26408922, 0.00590972, 0.97381811, 0.93335142, 0.87234235])"
      ]
     },
     "execution_count": 74,
     "metadata": {},
     "output_type": "execute_result"
    }
   ],
   "source": [
    "#generate 10 random numbers in the range 0 to 1\n",
    "r=random(10)\n",
    "r"
   ]
  },
  {
   "cell_type": "code",
   "execution_count": 75,
   "id": "805199da",
   "metadata": {},
   "outputs": [
    {
     "data": {
      "text/plain": [
       "array([ True, False,  True,  True, False,  True,  True, False, False,\n",
       "       False])"
      ]
     },
     "execution_count": 75,
     "metadata": {},
     "output_type": "execute_result"
    }
   ],
   "source": [
    "#ask which are less than .5\n",
    "r<.5"
   ]
  },
  {
   "cell_type": "code",
   "execution_count": 76,
   "id": "fd8c8518",
   "metadata": {},
   "outputs": [
    {
     "data": {
      "text/plain": [
       "array([0.2756275 , 0.80412944, 0.29603686, 0.93440943, 0.26408922,\n",
       "       0.97381811, 0.93335142, 0.87234235])"
      ]
     },
     "execution_count": 76,
     "metadata": {},
     "output_type": "execute_result"
    }
   ],
   "source": [
    "#return only the ones greater than .25\n",
    "r[r>.25]"
   ]
  },
  {
   "cell_type": "code",
   "execution_count": 77,
   "id": "0f0893d3",
   "metadata": {},
   "outputs": [
    {
     "data": {
      "text/plain": [
       "(8, 0.5568291553405806, 0.1276496777014819, 0.3572809506557576)"
      ]
     },
     "execution_count": 77,
     "metadata": {},
     "output_type": "execute_result"
    }
   ],
   "source": [
    "#count the number greater than .25, take their mean, variance, standard deviation:\n",
    "(r>.25).sum(), r.mean(), r.var(), r.std()"
   ]
  },
  {
   "cell_type": "markdown",
   "id": "2fc49c94",
   "metadata": {},
   "source": [
    "**Exercise:** Suppose 15000 cornell ugrads flip a fair coin 100 times apiece.\n",
    "\n",
    "In a one-line list comprehension, use `randint()` to simulate the percentage that gets 'between' 45 and 55 heads (specifically >=45 and < 55 heads)\n",
    "\n",
    "[Note that compressing things into a single line of code is not always the best practice, but for the above it's fun. Note also that this is one you can alternatively check in your head, since 100 is large enough that it's well-enough approximated by a normal distribution.  For the cs students, it's a Bernoulli process with 100 trials; for the physics students it's a 1d random walk of 100 steps with equal forward/backward probabilities.]"
   ]
  },
  {
   "cell_type": "code",
   "execution_count": 78,
   "id": "1ebfe4a3",
   "metadata": {},
   "outputs": [
    {
     "name": "stdout",
     "output_type": "stream",
     "text": [
      "67.94666666666667 %\n"
     ]
    }
   ],
   "source": [
    "# Let 1 represents heads-up\n",
    "prob = len([x for x in [sum([randint(0,2) for i in range(100)])/100 for j in range(15000)] if .45 <= x < .55])/15000\n",
    "print(prob*100, '%')"
   ]
  }
 ],
 "metadata": {
  "kernelspec": {
   "display_name": "Python 3",
   "language": "python",
   "name": "python3"
  },
  "language_info": {
   "codemirror_mode": {
    "name": "ipython",
    "version": 3
   },
   "file_extension": ".py",
   "mimetype": "text/x-python",
   "name": "python",
   "nbconvert_exporter": "python",
   "pygments_lexer": "ipython3",
   "version": "3.8.10"
  },
  "widgets": {
   "application/vnd.jupyter.widget-state+json": {
    "state": {},
    "version_major": 2,
    "version_minor": 0
   }
  }
 },
 "nbformat": 4,
 "nbformat_minor": 5
}

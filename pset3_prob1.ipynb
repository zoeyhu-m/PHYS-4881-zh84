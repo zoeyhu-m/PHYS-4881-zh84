{
 "cells": [
  {
   "cell_type": "markdown",
   "id": "bd1e28b6",
   "metadata": {},
   "source": [
    "## physics4481-7681/cs4812 ps3 problem 1\n",
    "### due Fri 15 Oct 23:00 via gradescope\n",
    "\n",
    "This is the first problem of ps3 -- the remaining problems are [here](https://courses.cit.cornell.edu/physics4481-7681_2021fa/ps3.pdf)"
   ]
  },
  {
   "cell_type": "code",
   "execution_count": 1,
   "id": "da568c6e",
   "metadata": {
    "tags": []
   },
   "outputs": [],
   "source": [
    "import numpy as np\n",
    "\n",
    "# Importing standard Qiskit libraries\n",
    "from qiskit import QuantumCircuit, IBMQ, execute\n",
    "from qiskit.tools.jupyter import *\n",
    "from qiskit.visualization import *\n",
    "\n",
    "# Loading your IBM Quantum account(s)\n",
    "IBMQ.load_account()\n",
    "provider = IBMQ.get_provider(hub='ibm-q', group='open', project='main')\n",
    "#provider = IBMQ.get_provider(hub='ibm-q-education', group='cornell-uni-2', project='physics-4481')"
   ]
  },
  {
   "cell_type": "markdown",
   "id": "7af7377c",
   "metadata": {},
   "source": [
    "In this problem, you will run the Deutsch-Jozsa algorithm on a real quantum computer. The exercise is based on [this](https://qiskit.org/textbook/ch-algorithms/deutsch-jozsa.html) chapter of the Qiskit textbook. First, read through that chapter until you feel like you understand the algorithm and how we are going to implement it on a real quantum device.\n",
    "\n",
    "For our implementation, we will pick $n=3$, i.e. the function $f(x)$ will take a 3-bit bit string to a 1-bit output. In order to implement the balanced quantum oracles shown in Section 3 of the textbook chapter, we need to apply CNOT gates between each of the 3 qubits in the upper register and the 1 qubit in the lower register. Take a look at the 5-qubit devices that you can access. You should find some where a single qubit is connected to 3 other qubits. Fill in the information below:"
   ]
  },
  {
   "cell_type": "code",
   "execution_count": 15,
   "id": "75742e34",
   "metadata": {
    "tags": []
   },
   "outputs": [],
   "source": [
    "n = 3\n",
    "device_name = 'ibmq_belem' # e.g. 'ibmq_bogota'\n",
    "qubits = [0, 2, 3, 1]# fill in with a list [x0, x1, x2, y], where y is the number of the qubit that is directly connected to x0, x1, and x2."
   ]
  },
  {
   "cell_type": "markdown",
   "id": "ad0f52ea",
   "metadata": {},
   "source": [
    "Next, copy the functions `dj_oracle` and `dj_algorithm` from the textbook chapter to the following cell. Make sure you understand every line in these functions."
   ]
  },
  {
   "cell_type": "code",
   "execution_count": 16,
   "id": "c8e04dc5",
   "metadata": {
    "tags": []
   },
   "outputs": [],
   "source": [
    "#copy dj_oracle and dj_algorithm from the qiskit textbook\n",
    "def dj_oracle(case, n):\n",
    "    # We need to make a QuantumCircuit object to return\n",
    "    # This circuit has n+1 qubits: the size of the input,\n",
    "    # plus one output qubit\n",
    "    oracle_qc = QuantumCircuit(n+1)\n",
    "    \n",
    "    # First, let's deal with the case in which oracle is balanced\n",
    "    if case == \"balanced\":\n",
    "        # First generate a random number that tells us which CNOTs to\n",
    "        # wrap in X-gates:\n",
    "        b = np.random.randint(1,2**n)\n",
    "        # Next, format 'b' as a binary string of length 'n', padded with zeros:\n",
    "        b_str = format(b, '0'+str(n)+'b')\n",
    "        # Next, we place the first X-gates. Each digit in our binary string \n",
    "        # corresponds to a qubit, if the digit is 0, we do nothing, if it's 1\n",
    "        # we apply an X-gate to that qubit:\n",
    "        for qubit in range(len(b_str)):\n",
    "            if b_str[qubit] == '1':\n",
    "                oracle_qc.x(qubit)\n",
    "        # Do the controlled-NOT gates for each qubit, using the output qubit \n",
    "        # as the target:\n",
    "        for qubit in range(n):\n",
    "            oracle_qc.cx(qubit, n)\n",
    "        # Next, place the final X-gates\n",
    "        for qubit in range(len(b_str)):\n",
    "            if b_str[qubit] == '1':\n",
    "                oracle_qc.x(qubit)\n",
    "\n",
    "    # Case in which oracle is constant\n",
    "    if case == \"constant\":\n",
    "        # First decide what the fixed output of the oracle will be\n",
    "        # (either always 0 or always 1)\n",
    "        output = np.random.randint(2)\n",
    "        if output == 1:\n",
    "            oracle_qc.x(n)\n",
    "    \n",
    "    oracle_gate = oracle_qc.to_gate()\n",
    "    oracle_gate.name = \"Oracle\" # To show when we display the circuit\n",
    "    return oracle_gate\n",
    "\n",
    "\n",
    "def dj_algorithm(oracle, n):\n",
    "    dj_circuit = QuantumCircuit(n+1, n)\n",
    "    # Set up the output qubit:\n",
    "    dj_circuit.x(n)\n",
    "    dj_circuit.h(n)\n",
    "    # And set up the input register:\n",
    "    for qubit in range(n):\n",
    "        dj_circuit.h(qubit)\n",
    "    # Let's append the oracle gate to our circuit:\n",
    "    dj_circuit.append(oracle, range(n+1))\n",
    "    # Finally, perform the H-gates again and measure:\n",
    "    for qubit in range(n):\n",
    "        dj_circuit.h(qubit)\n",
    "    \n",
    "    for i in range(n):\n",
    "        dj_circuit.measure(i, i)\n",
    "    \n",
    "    return dj_circuit"
   ]
  },
  {
   "cell_type": "code",
   "execution_count": 17,
   "id": "b76e9aea-361c-443b-8327-50b7f5a54b4e",
   "metadata": {},
   "outputs": [
    {
     "data": {
      "image/png": "[encoded data removed]",
      "text/plain": [
       "<Figure size 568.197x325.08 with 1 Axes>"
      ]
     },
     "execution_count": 17,
     "metadata": {},
     "output_type": "execute_result"
    }
   ],
   "source": [
    "dj_circuit = QuantumCircuit(n+1, n)\n",
    "oracle_gate = dj_oracle('balanced', n)\n",
    "dj_circuit = dj_algorithm(oracle_gate, n)\n",
    "dj_circuit.draw()"
   ]
  },
  {
   "cell_type": "markdown",
   "id": "8f802274",
   "metadata": {},
   "source": [
    "Next, let's set up an experiment to test the performance of this algorithm. Let's randomly pick oracles that are either balanced or constant feed them into the Deutsch-Jozsa algorithm, and run this on a real quantum computer. We will find the fraction of the time that we can correctly determine whether the function was constant or balanced using a single function call. Classically, we can't know which it was from a single function call, so if we succeed more than 50% of the time, then we have beat the classical algorithm.\n",
    "\n",
    "As in the previous homework, we will run 75 circuits, each with one shot."
   ]
  },
  {
   "cell_type": "code",
   "execution_count": 18,
   "id": "2c6e0f62",
   "metadata": {
    "tags": []
   },
   "outputs": [],
   "source": [
    "max_circuits = 75\n",
    "shots = 1"
   ]
  },
  {
   "cell_type": "markdown",
   "id": "ce909c32",
   "metadata": {},
   "source": [
    "Generate a numpy array of length `max_circuits` where each element is either 0 or 1, randomly chosen with equal probability. Let's pick the convention that 0 corresponds to constant and 1 corresponds to balanced."
   ]
  },
  {
   "cell_type": "code",
   "execution_count": 19,
   "id": "02fac0fb",
   "metadata": {
    "tags": []
   },
   "outputs": [
    {
     "data": {
      "text/plain": [
       "array([1, 1, 0, 0, 0, 0, 1, 1, 0, 1, 1, 1, 1, 1, 1, 1, 0, 1, 0, 0, 0, 0,\n",
       "       0, 0, 1, 0, 0, 1, 1, 0, 1, 1, 0, 1, 0, 0, 1, 1, 1, 0, 0, 1, 1, 0,\n",
       "       1, 1, 1, 0, 0, 0, 1, 1, 0, 1, 0, 0, 1, 0, 1, 1, 1, 0, 0, 0, 0, 0,\n",
       "       0, 1, 0, 0, 1, 0, 0, 0, 1])"
      ]
     },
     "execution_count": 19,
     "metadata": {},
     "output_type": "execute_result"
    }
   ],
   "source": [
    "balanced_or_constant = np.random.randint(2, size = max_circuits)\n",
    "balanced_or_constant"
   ]
  },
  {
   "cell_type": "markdown",
   "id": "6093d58a",
   "metadata": {},
   "source": [
    "Now, using the previous homework as a template, perform the experiment described above. Submit all 75 circuits in a single job. Perform a hypothesis test to check whether you are beating the classical win-rate (50%)."
   ]
  },
  {
   "cell_type": "code",
   "execution_count": 20,
   "id": "fa0cf13b-d03c-4bdb-8fc3-d4f641358ce9",
   "metadata": {},
   "outputs": [
    {
     "data": {
      "image/png": "[encoded data removed]",
      "text/plain": [
       "<Figure size 568.197x325.08 with 1 Axes>"
      ]
     },
     "execution_count": 20,
     "metadata": {},
     "output_type": "execute_result"
    }
   ],
   "source": [
    "# get all 75 circuits\n",
    "qc_all = []\n",
    "for i in range(max_circuits):\n",
    "    if balanced_or_constant[i] == 0 :\n",
    "        case = 'constant'\n",
    "    else:\n",
    "        case = 'balanced'\n",
    "    dj_circuit = QuantumCircuit(n+1, n)\n",
    "    oracle_gate = dj_oracle(case, n)\n",
    "    dj_circuit = dj_algorithm(oracle_gate, n)\n",
    "    qc_all.append(dj_circuit)\n",
    "\n",
    "qc_all[0].draw('mpl')"
   ]
  },
  {
   "cell_type": "code",
   "execution_count": 21,
   "id": "36466465-d1d0-43b2-8581-79cd95b7f1f0",
   "metadata": {},
   "outputs": [],
   "source": [
    "# submit all 75 circuits in a single job \n",
    "from qiskit import IBMQ, execute\n",
    "provider = IBMQ.get_provider(hub='ibm-q', group='open', project='main')\n",
    "backend = provider.backend.backends(device_name)[0] # the backend is the quantum computer that you picked.\n",
    "tags = ['Deutsch-Jozsa', f'x = {list(balanced_or_constant)}'] # set some tags to describe the experiment.\n",
    "job = execute(qc_all, backend, shots = 1)\n",
    "counts = job.result().get_counts() # this returns list of dictionaries of the results for each circuit we executed."
   ]
  },
  {
   "cell_type": "code",
   "execution_count": 22,
   "id": "512a81eb-9584-4903-aed7-e4d0f0b76a1e",
   "metadata": {},
   "outputs": [
    {
     "data": {
      "image/png": "[encoded data removed]",
      "text/plain": [
       "<Figure size 504x360 with 1 Axes>"
      ]
     },
     "execution_count": 22,
     "metadata": {},
     "output_type": "execute_result"
    }
   ],
   "source": [
    "# plot the results before computation\n",
    "from qiskit.visualization import plot_histogram\n",
    "plot_histogram(counts)"
   ]
  },
  {
   "cell_type": "code",
   "execution_count": 31,
   "id": "c315d2eb-e997-42f5-b98e-a74be2627716",
   "metadata": {},
   "outputs": [
    {
     "name": "stdout",
     "output_type": "stream",
     "text": [
      "results ['111' '101' '000' '000' '000' '000' '110' '110' '000' '001' '101' '111'\n",
      " '111' '111' '111' '101' '000' '100' '000' '000' '000' '000' '000' '000'\n",
      " '110' '000' '000' '111' '111' '000' '111' '111' '000' '101' '000' '000'\n",
      " '010' '111' '111' '000' '000' '110' '111' '100' '011' '101' '111' '000'\n",
      " '000' '000' '101' '111' '000' '111' '000' '000' '000' '000' '101' '111'\n",
      " '111' '000' '000' '000' '000' '000' '000' '111' '000' '000' '111' '000'\n",
      " '000' '000' '111']\n",
      "Winning probability 0.7066666666666667 %\n"
     ]
    }
   ],
   "source": [
    "results = np.array([list(c) for c in counts]).flatten()\n",
    "print('results', results)\n",
    "correct = 0\n",
    "for i in range(len(balanced_or_constant)):\n",
    "    if (results[i] == '111' or results[i] == '000') and balanced_or_constant[i] == 0:\n",
    "        correct += 1\n",
    "    elif (results[i] != '111' and results[i] != '000') and balanced_or_constant[i] == 1:\n",
    "        correct += 1\n",
    "print('Winning probability', correct/len(results), '%')"
   ]
  },
  {
   "cell_type": "code",
   "execution_count": 35,
   "id": "66e7e36f-a113-404d-b616-a41f871f9452",
   "metadata": {},
   "outputs": [
    {
     "name": "stdout",
     "output_type": "stream",
     "text": [
      "Binomial test: p-value of the hypothesis 0.00022482398582190612\n",
      "The null hypothesis is rejected, and the alternatice hypothesis is valid.\n",
      " The Deutsch-Jozsa algorithm can beat the calssical winnig limit 50%!\n"
     ]
    }
   ],
   "source": [
    "# perform a hypothesis test\n",
    "#compute the number of time \n",
    "import scipy.stats as stats\n",
    "p_classical = .5\n",
    "result = stats.binomtest(correct, len(results), p_classical, alternative = 'greater')\n",
    "print(\"Binomial test: p-value of the hypothesis\", result.pvalue)\n",
    "if result.pvalue > .05:\n",
    "    print('The null hypothesis is valid. The Deutsch-Jozsa algorithm cannot beat the classical winnig limit 75%.')\n",
    "else:\n",
    "    print(\"The null hypothesis is rejected, and the alternatice hypothesis is valid.\\n The Deutsch-Jozsa algorithm can beat the calssical winnig limit 50%!\")\n",
    "\n"
   ]
  },
  {
   "cell_type": "code",
   "execution_count": null,
   "id": "a844ff09-3656-4ef5-aee3-e71d11607004",
   "metadata": {},
   "outputs": [],
   "source": []
  }
 ],
 "metadata": {
  "kernelspec": {
   "display_name": "Qiskit v0.30.1 (ipykernel)",
   "language": "python",
   "name": "python3"
  },
  "language_info": {
   "codemirror_mode": {
    "name": "ipython",
    "version": 3
   },
   "file_extension": ".py",
   "mimetype": "text/x-python",
   "name": "python",
   "nbconvert_exporter": "python",
   "pygments_lexer": "ipython3",
   "version": "3.8.10"
  },
  "widgets": {
   "application/vnd.jupyter.widget-state+json": {
    "state": {
     "04e8b644847e439fb01531e304fa4ca8": {
      "model_module": "@jupyter-widgets/base",
      "model_module_version": "1.2.0",
      "model_name": "LayoutModel",
      "state": {
       "width": "145px"
      }
     },
     "06ac2317c19245939d8f886ef6e450b5": {
      "model_module": "@jupyter-widgets/controls",
      "model_module_version": "1.5.0",
      "model_name": "HTMLModel",
      "state": {
       "layout": "IPY_MODEL_e22be5c680ce41e1a83ab99a7a35c5c0",
       "style": "IPY_MODEL_c76a312d94f0403db7db1e61fa186558",
       "value": "<h5>Message</h5>"
      }
     },
     "1507af90124240a88093c23ac7d4441a": {
      "model_module": "@jupyter-widgets/controls",
      "model_module_version": "1.5.0",
      "model_name": "HTMLModel",
      "state": {
       "layout": "IPY_MODEL_1be01ecc2c9e42948299917b16ef6dba",
       "style": "IPY_MODEL_20da0794187c46789797dd0d6c56de69",
       "value": "<p style='font-family: IBM Plex Sans, Arial, Helvetica, sans-serif; font-size: 20px; font-weight: medium;'>Circuit Properties</p>"
      }
     },
     "16f78c15a9cf43e2b41c7df780efc2f7": {
      "model_module": "@jupyter-widgets/controls",
      "model_module_version": "1.5.0",
      "model_name": "HTMLModel",
      "state": {
       "layout": "IPY_MODEL_04e8b644847e439fb01531e304fa4ca8",
       "style": "IPY_MODEL_ff9883e841c049dd820be8c2c2e7b96b",
       "value": "ibmq_manila"
      }
     },
     "199a606b631447d0a187ea9ffece23de": {
      "model_module": "@jupyter-widgets/controls",
      "model_module_version": "1.5.0",
      "model_name": "HTMLModel",
      "state": {
       "layout": "IPY_MODEL_6c4cf546b5554bb2acf404304c56b0d2",
       "style": "IPY_MODEL_26fa88da8eac4be190f154340da1fafc",
       "value": "<h5>Job ID</h5>"
      }
     },
     "1be01ecc2c9e42948299917b16ef6dba": {
      "model_module": "@jupyter-widgets/base",
      "model_module_version": "1.2.0",
      "model_name": "LayoutModel",
      "state": {
       "margin": "0px 0px 10px 0px"
      }
     },
     "1d6cc64c853145f8b4b9963b048589c6": {
      "model_module": "@jupyter-widgets/controls",
      "model_module_version": "1.5.0",
      "model_name": "ButtonStyleModel",
      "state": {}
     },
     "20da0794187c46789797dd0d6c56de69": {
      "model_module": "@jupyter-widgets/controls",
      "model_module_version": "1.5.0",
      "model_name": "DescriptionStyleModel",
      "state": {
       "description_width": ""
      }
     },
     "23a536d0e5bb4553b7e6f939e9e2d53a": {
      "model_module": "@jupyter-widgets/base",
      "model_module_version": "1.2.0",
      "model_name": "LayoutModel",
      "state": {
       "width": "95px"
      }
     },
     "24e5ad5f075a4070b4ee99f3c23630af": {
      "model_module": "@jupyter-widgets/controls",
      "model_module_version": "1.5.0",
      "model_name": "HBoxModel",
      "state": {
       "children": [
        "IPY_MODEL_b44cdff93f6e47fbbdb782f8691c91f6",
        "IPY_MODEL_4a08e30bdbac494eb74e618bdf69d517",
        "IPY_MODEL_16f78c15a9cf43e2b41c7df780efc2f7",
        "IPY_MODEL_3e799e95cba74f59baff214ef92e3515",
        "IPY_MODEL_618cec6b1f7842b287bc64c905f67c30",
        "IPY_MODEL_cf17159c128c463abf93a0a2f10cde83"
       ],
       "layout": "IPY_MODEL_a4db3a00d7e24f768cd9f8f4ede3c2c6"
      }
     },
     "26fa88da8eac4be190f154340da1fafc": {
      "model_module": "@jupyter-widgets/controls",
      "model_module_version": "1.5.0",
      "model_name": "DescriptionStyleModel",
      "state": {
       "description_width": ""
      }
     },
     "3767c4e419b94e44bfc5139681873df4": {
      "model_module": "@jupyter-widgets/base",
      "model_module_version": "1.2.0",
      "model_name": "LayoutModel",
      "state": {
       "width": "95px"
      }
     },
     "3e38ba8f679e4c8ab68538eaf772e457": {
      "model_module": "@jupyter-widgets/controls",
      "model_module_version": "1.5.0",
      "model_name": "DescriptionStyleModel",
      "state": {
       "description_width": ""
      }
     },
     "3e799e95cba74f59baff214ef92e3515": {
      "model_module": "@jupyter-widgets/controls",
      "model_module_version": "1.5.0",
      "model_name": "HTMLModel",
      "state": {
       "layout": "IPY_MODEL_7f281709e84346629999d02a34328145",
       "style": "IPY_MODEL_93c9391b7e36438fa6b7be0cc6609c2e",
       "value": "<font style='color:#34BC6E'>DONE</font>"
      }
     },
     "41683b76c87443e98592998b26157934": {
      "model_module": "@jupyter-widgets/controls",
      "model_module_version": "1.5.0",
      "model_name": "DescriptionStyleModel",
      "state": {
       "description_width": ""
      }
     },
     "422847fe10194a17b52f2273d3be079a": {
      "model_module": "@jupyter-widgets/controls",
      "model_module_version": "1.5.0",
      "model_name": "HTMLModel",
      "state": {
       "layout": "IPY_MODEL_4e4a2983bf584c73a143aff6652e8c2d",
       "style": "IPY_MODEL_a756bc4655224d7a8709d7ad8be8d057",
       "value": "-"
      }
     },
     "437821ddc9b94a7faff1aa395c5de15d": {
      "model_module": "@jupyter-widgets/base",
      "model_module_version": "1.2.0",
      "model_name": "LayoutModel",
      "state": {
       "margin": "0px 5px 0px 0px",
       "width": "32px"
      }
     },
     "45de876d7fda4bac920426ef712d830d": {
      "model_module": "@jupyter-widgets/base",
      "model_module_version": "1.2.0",
      "model_name": "LayoutModel",
      "state": {
       "width": "145px"
      }
     },
     "461fa62c6c834f5eacae1ff9bb4dc58a": {
      "model_module": "@jupyter-widgets/controls",
      "model_module_version": "1.5.0",
      "model_name": "DescriptionStyleModel",
      "state": {
       "description_width": ""
      }
     },
     "47e6e97169224ae2962805e92ed08277": {
      "model_module": "@jupyter-widgets/base",
      "model_module_version": "1.2.0",
      "model_name": "LayoutModel",
      "state": {
       "grid_area": "right",
       "padding": "0px 0px 0px 0px",
       "width": "70px"
      }
     },
     "47f45672ddd34440913330cb26276ac2": {
      "model_module": "@jupyter-widgets/base",
      "model_module_version": "1.2.0",
      "model_name": "LayoutModel",
      "state": {
       "grid_template_areas": "\n                                       \". . . . right \"\n                                        ",
       "grid_template_columns": "20% 20% 20% 20% 20%",
       "width": "100%"
      }
     },
     "4a08e30bdbac494eb74e618bdf69d517": {
      "model_module": "@jupyter-widgets/controls",
      "model_module_version": "1.5.0",
      "model_name": "HTMLModel",
      "state": {
       "layout": "IPY_MODEL_fe4e711364194a3d815e6501a0a49fcb",
       "style": "IPY_MODEL_3e38ba8f679e4c8ab68538eaf772e457",
       "value": "616a480a82ec5a784cddf410"
      }
     },
     "4e4a2983bf584c73a143aff6652e8c2d": {
      "model_module": "@jupyter-widgets/base",
      "model_module_version": "1.2.0",
      "model_name": "LayoutModel",
      "state": {
       "width": "70px"
      }
     },
     "5550f65e595c47daad8cbd300324eaa4": {
      "model_module": "@jupyter-widgets/controls",
      "model_module_version": "1.5.0",
      "model_name": "ButtonModel",
      "state": {
       "icon": "close",
       "layout": "IPY_MODEL_437821ddc9b94a7faff1aa395c5de15d",
       "style": "IPY_MODEL_e58e82568ab54f9895757060647042db"
      }
     },
     "565dd0d7070a45acada4aeb84c72931c": {
      "model_module": "@jupyter-widgets/controls",
      "model_module_version": "1.5.0",
      "model_name": "HBoxModel",
      "state": {
       "children": [
        "IPY_MODEL_199a606b631447d0a187ea9ffece23de",
        "IPY_MODEL_fcc67af0bc77434784167a4d35dc0ab0",
        "IPY_MODEL_97b3d6365f4b46028dc897bf9b60320d",
        "IPY_MODEL_efb74fda9764456599459961b28c0735",
        "IPY_MODEL_06ac2317c19245939d8f886ef6e450b5"
       ],
       "layout": "IPY_MODEL_a34e7dd982734ad496cf96adb620105f"
      }
     },
     "618cec6b1f7842b287bc64c905f67c30": {
      "model_module": "@jupyter-widgets/controls",
      "model_module_version": "1.5.0",
      "model_name": "HTMLModel",
      "state": {
       "layout": "IPY_MODEL_76b9155d14894fb6a0b0cbecb897a7ab",
       "style": "IPY_MODEL_c8465e516d2744cf8e7d9ed65ce21c3a",
       "value": "-"
      }
     },
     "6375d59adeb8440b9e481d0530bc78c6": {
      "model_module": "@jupyter-widgets/controls",
      "model_module_version": "1.5.0",
      "model_name": "HTMLModel",
      "state": {
       "layout": "IPY_MODEL_f51b1a84ef8f4073864848f8459ce7f4",
       "style": "IPY_MODEL_e222eceb7a214c81ad8319367b1508d7",
       "value": "616a4961ab1130500c046590"
      }
     },
     "63feca93a9fd4665967b5a4113a1afeb": {
      "model_module": "@jupyter-widgets/controls",
      "model_module_version": "1.5.0",
      "model_name": "DescriptionStyleModel",
      "state": {
       "description_width": ""
      }
     },
     "65725742e75e48ae9f0870fc48c3196e": {
      "model_module": "@jupyter-widgets/controls",
      "model_module_version": "1.5.0",
      "model_name": "DescriptionStyleModel",
      "state": {
       "description_width": ""
      }
     },
     "6c4cf546b5554bb2acf404304c56b0d2": {
      "model_module": "@jupyter-widgets/base",
      "model_module_version": "1.2.0",
      "model_name": "LayoutModel",
      "state": {
       "width": "190px"
      }
     },
     "70b66aeef7cc490d92a35c222a284982": {
      "model_module": "@jupyter-widgets/controls",
      "model_module_version": "1.5.0",
      "model_name": "DescriptionStyleModel",
      "state": {
       "description_width": ""
      }
     },
     "7556f1dc266344fcb447aa091a60e8ba": {
      "model_module": "@jupyter-widgets/controls",
      "model_module_version": "1.5.0",
      "model_name": "HTMLModel",
      "state": {
       "layout": "IPY_MODEL_23a536d0e5bb4553b7e6f939e9e2d53a",
       "style": "IPY_MODEL_461fa62c6c834f5eacae1ff9bb4dc58a",
       "value": "<font style='color:#34BC6E'>DONE</font>"
      }
     },
     "76b9155d14894fb6a0b0cbecb897a7ab": {
      "model_module": "@jupyter-widgets/base",
      "model_module_version": "1.2.0",
      "model_name": "LayoutModel",
      "state": {
       "width": "70px"
      }
     },
     "7860047bcfde4270816e22c0050feda5": {
      "model_module": "@jupyter-widgets/base",
      "model_module_version": "1.2.0",
      "model_name": "LayoutModel",
      "state": {
       "overflow_x": "scroll"
      }
     },
     "7f281709e84346629999d02a34328145": {
      "model_module": "@jupyter-widgets/base",
      "model_module_version": "1.2.0",
      "model_name": "LayoutModel",
      "state": {
       "width": "95px"
      }
     },
     "8220ac5bc06c44238948ea3bfbd99c10": {
      "model_module": "@jupyter-widgets/controls",
      "model_module_version": "1.5.0",
      "model_name": "HTMLModel",
      "state": {
       "layout": "IPY_MODEL_ecd9a3f165d74f599476285717e9fcd9",
       "style": "IPY_MODEL_a4c4ce461fd04add8b9b1f7f20838edb",
       "value": "job has successfully run"
      }
     },
     "93c9391b7e36438fa6b7be0cc6609c2e": {
      "model_module": "@jupyter-widgets/controls",
      "model_module_version": "1.5.0",
      "model_name": "DescriptionStyleModel",
      "state": {
       "description_width": ""
      }
     },
     "97b3d6365f4b46028dc897bf9b60320d": {
      "model_module": "@jupyter-widgets/controls",
      "model_module_version": "1.5.0",
      "model_name": "HTMLModel",
      "state": {
       "layout": "IPY_MODEL_3767c4e419b94e44bfc5139681873df4",
       "style": "IPY_MODEL_70b66aeef7cc490d92a35c222a284982",
       "value": "<h5>Status</h5>"
      }
     },
     "9e1d35f3d1f04636b66e4be1fca7170c": {
      "model_module": "@jupyter-widgets/base",
      "model_module_version": "1.2.0",
      "model_name": "LayoutModel",
      "state": {
       "max_width": "700px",
       "min_width": "700px"
      }
     },
     "9eaaa5f1a9614afcb5fcb001f400dd6e": {
      "model_module": "@jupyter-widgets/base",
      "model_module_version": "1.2.0",
      "model_name": "LayoutModel",
      "state": {
       "width": "145px"
      }
     },
     "a34e7dd982734ad496cf96adb620105f": {
      "model_module": "@jupyter-widgets/base",
      "model_module_version": "1.2.0",
      "model_name": "LayoutModel",
      "state": {
       "margin": "0px 0px 0px 37px",
       "width": "600px"
      }
     },
     "a4c4ce461fd04add8b9b1f7f20838edb": {
      "model_module": "@jupyter-widgets/controls",
      "model_module_version": "1.5.0",
      "model_name": "DescriptionStyleModel",
      "state": {
       "description_width": ""
      }
     },
     "a4db3a00d7e24f768cd9f8f4ede3c2c6": {
      "model_module": "@jupyter-widgets/base",
      "model_module_version": "1.2.0",
      "model_name": "LayoutModel",
      "state": {
       "max_width": "700px",
       "min_width": "700px"
      }
     },
     "a756bc4655224d7a8709d7ad8be8d057": {
      "model_module": "@jupyter-widgets/controls",
      "model_module_version": "1.5.0",
      "model_name": "DescriptionStyleModel",
      "state": {
       "description_width": ""
      }
     },
     "ac131b53708d4f4a93408e0ec5dd5a28": {
      "model_module": "@jupyter-widgets/controls",
      "model_module_version": "1.5.0",
      "model_name": "DescriptionStyleModel",
      "state": {
       "description_width": ""
      }
     },
     "ae9486514d234bbebce07377bdc52670": {
      "model_module": "@jupyter-widgets/base",
      "model_module_version": "1.2.0",
      "model_name": "LayoutModel",
      "state": {
       "width": "70px"
      }
     },
     "b44cdff93f6e47fbbdb782f8691c91f6": {
      "model_module": "@jupyter-widgets/controls",
      "model_module_version": "1.5.0",
      "model_name": "ButtonModel",
      "state": {
       "icon": "close",
       "layout": "IPY_MODEL_fb0e809f780b48bcab9d6a7d8d88ef25",
       "style": "IPY_MODEL_b6d028ed58bc42f59514686f58381489"
      }
     },
     "b6d028ed58bc42f59514686f58381489": {
      "model_module": "@jupyter-widgets/controls",
      "model_module_version": "1.5.0",
      "model_name": "ButtonStyleModel",
      "state": {
       "button_color": "white"
      }
     },
     "bf42ee0ba31c4f25895918e3eee1d34a": {
      "model_module": "@jupyter-widgets/controls",
      "model_module_version": "1.5.0",
      "model_name": "GridBoxModel",
      "state": {
       "children": [
        "IPY_MODEL_ff40937dead04c15b2e9f8b5f4507de2"
       ],
       "layout": "IPY_MODEL_47f45672ddd34440913330cb26276ac2"
      }
     },
     "c76a312d94f0403db7db1e61fa186558": {
      "model_module": "@jupyter-widgets/controls",
      "model_module_version": "1.5.0",
      "model_name": "DescriptionStyleModel",
      "state": {
       "description_width": ""
      }
     },
     "c81151b85db74199b485f06faf06edb0": {
      "model_module": "@jupyter-widgets/controls",
      "model_module_version": "1.5.0",
      "model_name": "HTMLModel",
      "state": {
       "layout": "IPY_MODEL_45de876d7fda4bac920426ef712d830d",
       "style": "IPY_MODEL_63feca93a9fd4665967b5a4113a1afeb",
       "value": "ibmq_belem"
      }
     },
     "c8465e516d2744cf8e7d9ed65ce21c3a": {
      "model_module": "@jupyter-widgets/controls",
      "model_module_version": "1.5.0",
      "model_name": "DescriptionStyleModel",
      "state": {
       "description_width": ""
      }
     },
     "cf17159c128c463abf93a0a2f10cde83": {
      "model_module": "@jupyter-widgets/controls",
      "model_module_version": "1.5.0",
      "model_name": "HTMLModel",
      "state": {
       "layout": "IPY_MODEL_7860047bcfde4270816e22c0050feda5",
       "style": "IPY_MODEL_65725742e75e48ae9f0870fc48c3196e",
       "value": "job has successfully run"
      }
     },
     "e222eceb7a214c81ad8319367b1508d7": {
      "model_module": "@jupyter-widgets/controls",
      "model_module_version": "1.5.0",
      "model_name": "DescriptionStyleModel",
      "state": {
       "description_width": ""
      }
     },
     "e22be5c680ce41e1a83ab99a7a35c5c0": {
      "model_module": "@jupyter-widgets/base",
      "model_module_version": "1.2.0",
      "model_name": "LayoutModel",
      "state": {}
     },
     "e58e82568ab54f9895757060647042db": {
      "model_module": "@jupyter-widgets/controls",
      "model_module_version": "1.5.0",
      "model_name": "ButtonStyleModel",
      "state": {
       "button_color": "white"
      }
     },
     "ecd9a3f165d74f599476285717e9fcd9": {
      "model_module": "@jupyter-widgets/base",
      "model_module_version": "1.2.0",
      "model_name": "LayoutModel",
      "state": {
       "overflow_x": "scroll"
      }
     },
     "efb74fda9764456599459961b28c0735": {
      "model_module": "@jupyter-widgets/controls",
      "model_module_version": "1.5.0",
      "model_name": "HTMLModel",
      "state": {
       "layout": "IPY_MODEL_ae9486514d234bbebce07377bdc52670",
       "style": "IPY_MODEL_41683b76c87443e98592998b26157934",
       "value": "<h5>Queue</h5>"
      }
     },
     "f51b1a84ef8f4073864848f8459ce7f4": {
      "model_module": "@jupyter-widgets/base",
      "model_module_version": "1.2.0",
      "model_name": "LayoutModel",
      "state": {
       "width": "190px"
      }
     },
     "fb0e809f780b48bcab9d6a7d8d88ef25": {
      "model_module": "@jupyter-widgets/base",
      "model_module_version": "1.2.0",
      "model_name": "LayoutModel",
      "state": {
       "margin": "0px 5px 0px 0px",
       "width": "32px"
      }
     },
     "fcc67af0bc77434784167a4d35dc0ab0": {
      "model_module": "@jupyter-widgets/controls",
      "model_module_version": "1.5.0",
      "model_name": "HTMLModel",
      "state": {
       "layout": "IPY_MODEL_9eaaa5f1a9614afcb5fcb001f400dd6e",
       "style": "IPY_MODEL_ac131b53708d4f4a93408e0ec5dd5a28",
       "value": "<h5>Backend</h5>"
      }
     },
     "fe4e711364194a3d815e6501a0a49fcb": {
      "model_module": "@jupyter-widgets/base",
      "model_module_version": "1.2.0",
      "model_name": "LayoutModel",
      "state": {
       "width": "190px"
      }
     },
     "ff3a1693a64d4f2395bfc07bd330e428": {
      "model_module": "@jupyter-widgets/controls",
      "model_module_version": "1.5.0",
      "model_name": "HBoxModel",
      "state": {
       "children": [
        "IPY_MODEL_5550f65e595c47daad8cbd300324eaa4",
        "IPY_MODEL_6375d59adeb8440b9e481d0530bc78c6",
        "IPY_MODEL_c81151b85db74199b485f06faf06edb0",
        "IPY_MODEL_7556f1dc266344fcb447aa091a60e8ba",
        "IPY_MODEL_422847fe10194a17b52f2273d3be079a",
        "IPY_MODEL_8220ac5bc06c44238948ea3bfbd99c10"
       ],
       "layout": "IPY_MODEL_9e1d35f3d1f04636b66e4be1fca7170c"
      }
     },
     "ff40937dead04c15b2e9f8b5f4507de2": {
      "model_module": "@jupyter-widgets/controls",
      "model_module_version": "1.5.0",
      "model_name": "ButtonModel",
      "state": {
       "button_style": "primary",
       "description": "Clear",
       "layout": "IPY_MODEL_47e6e97169224ae2962805e92ed08277",
       "style": "IPY_MODEL_1d6cc64c853145f8b4b9963b048589c6"
      }
     },
     "ff9883e841c049dd820be8c2c2e7b96b": {
      "model_module": "@jupyter-widgets/controls",
      "model_module_version": "1.5.0",
      "model_name": "DescriptionStyleModel",
      "state": {
       "description_width": ""
      }
     }
    },
    "version_major": 2,
    "version_minor": 0
   }
  }
 },
 "nbformat": 4,
 "nbformat_minor": 5
}
